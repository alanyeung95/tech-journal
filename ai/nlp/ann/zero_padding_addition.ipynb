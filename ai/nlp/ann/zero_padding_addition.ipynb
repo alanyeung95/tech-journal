{
  "nbformat": 4,
  "nbformat_minor": 0,
  "metadata": {
    "colab": {
      "name": "zero-padding-addition.ipynb",
      "provenance": []
    },
    "kernelspec": {
      "name": "python3",
      "display_name": "Python 3"
    },
    "language_info": {
      "name": "python"
    }
  },
  "cells": [
    {
      "cell_type": "code",
      "source": [
        "import numpy as np \n",
        "import tensorflow as tf\n",
        "from tensorflow import keras\n",
        "\n",
        "np.set_printoptions(suppress=True)\n",
        "\n",
        "max_input_length = 20\n",
        "\n",
        "sample_data = np.zeros((1, 20))\n",
        "sample_targets= np.zeros((1, 1))\n",
        "\n",
        "for i in range(0,5000):\n",
        "    n = np.random.randint(20)\n",
        "    random_number = random.randrange(1, 10000) -5000 # generate a number between -5000 and 5000\n",
        "    new_row =  np.append(np.full([n],random_number), np.zeros((1,max_input_length-n)))\n",
        "    sample_data = np.append(sample_data,[new_row],axis=0)\n",
        "    sample_targets= np.append(sample_targets,[random_number*n])\n",
        "\n",
        "train_data = sample_data[:int(len(sample_data) * 0.8)]\n",
        "train_targets = sample_targets[:int(len(sample_targets) * 0.8)]\n",
        "test_data = sample_data[int(len(sample_data) * 0.8):]\n",
        "test_targets = sample_targets[int(len(sample_targets) * 0.8):]\n",
        "\n",
        "print(\"Train set inputs: \\n\", train_data)\n",
        "print(\"Train set labels: \\n\", train_targets)"
      ],
      "metadata": {
        "id": "WR4Fl_ReWLZK",
        "colab": {
          "base_uri": "https://localhost:8080/"
        },
        "outputId": "f6755c4e-2730-4113-ccc1-5690ce0ccc98"
      },
      "execution_count": 103,
      "outputs": [
        {
          "output_type": "stream",
          "name": "stdout",
          "text": [
            "Train set inputs: \n",
            " [[    0.     0.     0. ...     0.     0.     0.]\n",
            " [-1108. -1108. -1108. ...     0.     0.     0.]\n",
            " [ -830.  -830.  -830. ...     0.     0.     0.]\n",
            " ...\n",
            " [ -108.  -108.  -108. ...  -108.     0.     0.]\n",
            " [-4002. -4002. -4002. ...     0.     0.     0.]\n",
            " [-3624.     0.     0. ...     0.     0.     0.]]\n",
            "Train set labels: \n",
            " [     0.  -4432.  -8300. ...  -1944. -60030.  -3624.]\n"
          ]
        }
      ]
    },
    {
      "cell_type": "markdown",
      "source": [
        ""
      ],
      "metadata": {
        "id": "JEM5OxIyaSUO"
      }
    },
    {
      "cell_type": "code",
      "execution_count": 104,
      "metadata": {
        "colab": {
          "base_uri": "https://localhost:8080/"
        },
        "id": "SlPiGmkWUCCY",
        "outputId": "dea35a26-336e-4c77-cd12-a9d104d76a03"
      },
      "outputs": [
        {
          "output_type": "stream",
          "name": "stdout",
          "text": [
            "Epoch 1/10\n",
            "4000/4000 [==============================] - 7s 2ms/step - loss: 71357352.0000 - mae: 2886.9290\n",
            "Epoch 2/10\n",
            "4000/4000 [==============================] - 6s 2ms/step - loss: 164995.0312 - mae: 263.0319\n",
            "Epoch 3/10\n",
            "4000/4000 [==============================] - 6s 2ms/step - loss: 58956.7969 - mae: 117.5431\n",
            "Epoch 4/10\n",
            "4000/4000 [==============================] - 6s 1ms/step - loss: 60016.7891 - mae: 117.4528\n",
            "Epoch 5/10\n",
            "4000/4000 [==============================] - 6s 1ms/step - loss: 82526.7656 - mae: 103.6758\n",
            "Epoch 6/10\n",
            "4000/4000 [==============================] - 6s 2ms/step - loss: 59719.7344 - mae: 103.4850\n",
            "Epoch 7/10\n",
            "4000/4000 [==============================] - 6s 2ms/step - loss: 43999.6133 - mae: 94.0392\n",
            "Epoch 8/10\n",
            "4000/4000 [==============================] - 6s 1ms/step - loss: 48012.9258 - mae: 103.6960\n",
            "Epoch 9/10\n",
            "4000/4000 [==============================] - 6s 1ms/step - loss: 66400.4766 - mae: 100.3150\n",
            "Epoch 10/10\n",
            "4000/4000 [==============================] - 6s 1ms/step - loss: 52049.4219 - mae: 92.7869\n"
          ]
        },
        {
          "output_type": "execute_result",
          "data": {
            "text/plain": [
              "<keras.callbacks.History at 0x7f30138936d0>"
            ]
          },
          "metadata": {},
          "execution_count": 104
        }
      ],
      "source": [
        "model = keras.Sequential([\n",
        "    keras.layers.Flatten(input_shape=(max_input_length,)),\n",
        "    keras.layers.Dense(20, activation=tf.nn.relu),\n",
        "    keras.layers.Dense(1)\n",
        "])\n",
        "\n",
        "model.compile(optimizer='adam', \n",
        "              loss='mse',\n",
        "              metrics=['mae'])\n",
        "\n",
        "model.fit(train_data, train_targets, epochs=10, batch_size=1)"
      ]
    },
    {
      "cell_type": "code",
      "source": [
        "test_loss, test_mae = model.evaluate(test_data, test_targets, verbose = 1)\n",
        "print('Test lost:', test_loss)\n",
        "print('Test mae:', test_mae)\n",
        "\n",
        "a= np.array([\n",
        "     np.append([0.1,0.2], np.zeros(18),axis=0),\n",
        "     np.append([2000,3000,4000,5000], np.zeros(16),axis=0),     \n",
        "     np.append([1,2,3,4,5,6,7,8,9,10], np.zeros(10),axis=0), \n",
        "     np.append([-1,-2,-3], np.zeros(17),axis=0),   \n",
        "     ])\n",
        "print(model.predict(a))\n"
      ],
      "metadata": {
        "colab": {
          "base_uri": "https://localhost:8080/"
        },
        "id": "x8ZhquC2cGdg",
        "outputId": "b9cebc7f-69c9-4f96-9366-6e898b735abe"
      },
      "execution_count": 105,
      "outputs": [
        {
          "output_type": "stream",
          "name": "stdout",
          "text": [
            "32/32 [==============================] - 0s 1ms/step - loss: 1152.1237 - mae: 21.0614\n",
            "Test lost: 1152.1236572265625\n",
            "Test mae: 21.061399459838867\n",
            "[[    0.3796237]\n",
            " [13948.6045   ]\n",
            " [   55.153774 ]\n",
            " [   -6.475255 ]]\n"
          ]
        }
      ]
    }
  ]
}