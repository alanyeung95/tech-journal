{
  "nbformat": 4,
  "nbformat_minor": 0,
  "metadata": {
    "colab": {
      "name": "addition.ipynb",
      "provenance": [],
      "collapsed_sections": []
    },
    "kernelspec": {
      "name": "python3",
      "display_name": "Python 3"
    },
    "language_info": {
      "name": "python"
    }
  },
  "cells": [
    {
      "cell_type": "code",
      "source": [
        "import numpy as np \n",
        "import tensorflow as tf\n",
        "from tensorflow import keras\n",
        "import random\n",
        "\n",
        "sample_data = np.array([[0.0, 0.0, 0.0, 0.0]])\n",
        "sample_targets = np.array([0])\n",
        "\n",
        "for i in range(0,5000):\n",
        "    random_number = random.randrange(1, 10000) -5000 # generate a number between -5000 and 5000\n",
        "    sample_data = np.append(sample_data,[[random_number,random_number,random_number,random_number]],axis=0)\n",
        "    sample_targets = np.append(sample_targets,[4*random_number],axis=0)\n",
        "\n",
        "train_data = sample_data[:int(len(sample_data) * 0.8)]\n",
        "train_targets = sample_targets[:int(len(sample_targets) * 0.8)]\n",
        "test_data = sample_data[int(len(sample_data) * 0.8):]\n",
        "test_targets = sample_targets[int(len(sample_targets) * 0.8):]\n",
        "\n",
        "print(\"Train set input: \\n\", train_data)\n",
        "print(\"Train set label: \\n\", train_targets)"
      ],
      "metadata": {
        "colab": {
          "base_uri": "https://localhost:8080/"
        },
        "id": "brCQ1XWzuEFP",
        "outputId": "a9cb2635-4612-4191-eb33-7691144b6f13"
      },
      "execution_count": 133,
      "outputs": [
        {
          "output_type": "stream",
          "name": "stdout",
          "text": [
            "Train set input: \n",
            " [[    0.     0.     0.     0.]\n",
            " [-3442. -3442. -3442. -3442.]\n",
            " [ 3071.  3071.  3071.  3071.]\n",
            " ...\n",
            " [ -762.  -762.  -762.  -762.]\n",
            " [-1832. -1832. -1832. -1832.]\n",
            " [  822.   822.   822.   822.]]\n",
            "Train set label: \n",
            " [     0 -13768  12284 ...  -3048  -7328   3288]\n"
          ]
        }
      ]
    },
    {
      "cell_type": "code",
      "source": [
        "model = keras.Sequential([\n",
        "    keras.layers.Input(shape=(4,)),\n",
        "    keras.layers.Dense(20, activation=tf.nn.relu),\n",
        "    keras.layers.Dense(1)\n",
        "])\n",
        "\n",
        "model.compile(optimizer='adam', \n",
        "              loss='mse',\n",
        "              metrics=['mae'])\n",
        "\n",
        "model.fit(train_data, train_targets, epochs=10, batch_size=1)"
      ],
      "metadata": {
        "colab": {
          "base_uri": "https://localhost:8080/"
        },
        "id": "kyvHi6uFuQXe",
        "outputId": "3003623c-9282-4f0f-df73-3ca331632c22"
      },
      "execution_count": 134,
      "outputs": [
        {
          "output_type": "stream",
          "name": "stdout",
          "text": [
            "Epoch 1/10\n",
            "4000/4000 [==============================] - 6s 2ms/step - loss: 5944356.5000 - mae: 681.6017\n",
            "Epoch 2/10\n",
            "4000/4000 [==============================] - 6s 2ms/step - loss: 0.2349 - mae: 0.4039\n",
            "Epoch 3/10\n",
            "4000/4000 [==============================] - 6s 2ms/step - loss: 1553.3771 - mae: 7.8098\n",
            "Epoch 4/10\n",
            "4000/4000 [==============================] - 6s 2ms/step - loss: 5711.9458 - mae: 12.7150\n",
            "Epoch 5/10\n",
            "4000/4000 [==============================] - 6s 2ms/step - loss: 1585.9246 - mae: 8.9726\n",
            "Epoch 6/10\n",
            "4000/4000 [==============================] - 6s 2ms/step - loss: 1777.8549 - mae: 10.8244\n",
            "Epoch 7/10\n",
            "4000/4000 [==============================] - 6s 1ms/step - loss: 2571.5803 - mae: 10.1760\n",
            "Epoch 8/10\n",
            "4000/4000 [==============================] - 6s 1ms/step - loss: 1010.4409 - mae: 8.9737\n",
            "Epoch 9/10\n",
            "4000/4000 [==============================] - 6s 2ms/step - loss: 1592.3505 - mae: 10.7729\n",
            "Epoch 10/10\n",
            "4000/4000 [==============================] - 6s 2ms/step - loss: 994.4719 - mae: 7.0347\n"
          ]
        },
        {
          "output_type": "execute_result",
          "data": {
            "text/plain": [
              "<keras.callbacks.History at 0x7f00ded84790>"
            ]
          },
          "metadata": {},
          "execution_count": 134
        }
      ]
    },
    {
      "cell_type": "code",
      "source": [
        "test_loss, test_mae = model.evaluate(test_data, test_targets, verbose = 1)\n",
        "print('Test lost:', test_loss)\n",
        "print('Test mae:', test_mae)\n",
        "\n",
        "a= np.array([[1,2,3,4],[2000,3000,4000,5000],[4,5,6,7],[-20,-30,-40,-50]])\n",
        "np.set_printoptions(suppress=True)\n",
        "print('Test input:\\n', a)\n",
        "print('Test output:\\n',model.predict(a))"
      ],
      "metadata": {
        "colab": {
          "base_uri": "https://localhost:8080/"
        },
        "id": "g88wp-Ni1PXu",
        "outputId": "7748a6f7-8a02-45f3-9041-798fd993eec6"
      },
      "execution_count": 135,
      "outputs": [
        {
          "output_type": "stream",
          "name": "stdout",
          "text": [
            "32/32 [==============================] - 0s 2ms/step - loss: 0.9372 - mae: 0.6691\n",
            "Test lost: 0.9371962547302246\n",
            "Test mae: 0.6691457033157349\n",
            "Test input:\n",
            " [[   1    2    3    4]\n",
            " [2000 3000 4000 5000]\n",
            " [   4    5    6    7]\n",
            " [ -20  -30  -40  -50]]\n",
            "Test output:\n",
            " [[   10.900178]\n",
            " [14374.755   ]\n",
            " [   22.883434]\n",
            " [ -137.96759 ]]\n"
          ]
        }
      ]
    }
  ]
}