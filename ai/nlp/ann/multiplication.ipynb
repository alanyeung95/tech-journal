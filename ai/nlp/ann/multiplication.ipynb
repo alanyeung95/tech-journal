{
  "nbformat": 4,
  "nbformat_minor": 0,
  "metadata": {
    "colab": {
      "name": "multiplication.ipynb",
      "provenance": [],
      "collapsed_sections": []
    },
    "kernelspec": {
      "name": "python3",
      "display_name": "Python 3"
    },
    "language_info": {
      "name": "python"
    }
  },
  "cells": [
    {
      "cell_type": "code",
      "execution_count": 6,
      "metadata": {
        "colab": {
          "base_uri": "https://localhost:8080/"
        },
        "id": "C8cu8s2SFWB9",
        "outputId": "15c7495c-97b7-4e1b-ab3b-1f25c8b1d698"
      },
      "outputs": [
        {
          "output_type": "stream",
          "name": "stdout",
          "text": [
            "Epoch 1/10\n",
            "10000/10000 [==============================] - 16s 2ms/step - loss: 0.0050 - mae: 0.0439\n",
            "Epoch 2/10\n",
            "10000/10000 [==============================] - 15s 2ms/step - loss: 0.0015 - mae: 0.0290\n",
            "Epoch 3/10\n",
            "10000/10000 [==============================] - 16s 2ms/step - loss: 2.8451e-04 - mae: 0.0131\n",
            "Epoch 4/10\n",
            "10000/10000 [==============================] - 14s 1ms/step - loss: 2.4490e-04 - mae: 0.0123\n",
            "Epoch 5/10\n",
            "10000/10000 [==============================] - 13s 1ms/step - loss: 1.6262e-04 - mae: 0.0100\n",
            "Epoch 6/10\n",
            "10000/10000 [==============================] - 13s 1ms/step - loss: 9.8587e-05 - mae: 0.0076\n",
            "Epoch 7/10\n",
            "10000/10000 [==============================] - 13s 1ms/step - loss: 6.4730e-05 - mae: 0.0062\n",
            "Epoch 8/10\n",
            "10000/10000 [==============================] - 13s 1ms/step - loss: 5.0509e-05 - mae: 0.0055\n",
            "Epoch 9/10\n",
            "10000/10000 [==============================] - 13s 1ms/step - loss: 4.3865e-05 - mae: 0.0051\n",
            "Epoch 10/10\n",
            "10000/10000 [==============================] - 13s 1ms/step - loss: 4.1961e-05 - mae: 0.0050\n"
          ]
        },
        {
          "output_type": "execute_result",
          "data": {
            "text/plain": [
              "array([[  0.4077838],\n",
              "       [  2.599099 ],\n",
              "       [ 15.412961 ],\n",
              "       [159.25496  ]], dtype=float32)"
            ]
          },
          "metadata": {},
          "execution_count": 6
        }
      ],
      "source": [
        "import numpy as np\n",
        "import tensorflow as tf\n",
        "from tensorflow import keras\n",
        "\n",
        "np.set_printoptions(suppress=True)\n",
        "\n",
        "model = keras.Sequential([\n",
        "    keras.layers.Input(shape=(2,)),\n",
        "    keras.layers.Dense(20, activation=tf.nn.relu),\n",
        "    keras.layers.Dense(1)\n",
        "])\n",
        "\n",
        "data =  np.random.random((10000, 2)) \n",
        "results = np.asarray([a * b for a, b in data]) \n",
        "\n",
        "model.compile(optimizer='adam',\n",
        "                  loss='mse',\n",
        "              metrics=['mae'])\n",
        "\n",
        "model.fit(data, results, epochs=10, batch_size=1)\n",
        "model.predict([[0.8, 0.5],[2,2],[10,10],[100,100]])"
      ]
    },
    {
      "cell_type": "code",
      "source": [
        ""
      ],
      "metadata": {
        "id": "JWedsB4IFgfU"
      },
      "execution_count": 6,
      "outputs": []
    }
  ]
}