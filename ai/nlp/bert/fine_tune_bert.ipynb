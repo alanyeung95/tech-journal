{
  "cells": [
    {
      "cell_type": "markdown",
      "metadata": {
        "id": "1mLJmVotXs64"
      },
      "source": [
        "# Fine-tuning a BERT model"
      ]
    },
    {
      "cell_type": "markdown",
      "metadata": {
        "id": "hYEwGTeCXnnX"
      },
      "source": [
        "<table class=\"tfo-notebook-buttons\" align=\"left\">\n",
        "  <td>\n",
        "    <a target=\"_blank\" href=\"https://www.tensorflow.org/text/tutorials/fine_tune_bert\"><img src=\"https://www.tensorflow.org/images/tf_logo_32px.png\" />View on TensorFlow.org</a>\n",
        "  </td>\n",
        "  <td>\n",
        "    <a target=\"_blank\" href=\"https://colab.research.google.com/github/tensorflow/text/blob/master/docs/tutorials/fine_tune_bert.ipynb\"><img src=\"https://www.tensorflow.org/images/colab_logo_32px.png\" />Run in Google Colab</a>\n",
        "  </td>\n",
        "  <td>\n",
        "    <a target=\"_blank\" href=\"https://github.com/tensorflow/text/blob/master/docs/tutorials/fine_tune_bert.ipynb\"><img src=\"https://www.tensorflow.org/images/GitHub-Mark-32px.png\" />View source on GitHub</a>\n",
        "  </td>\n",
        "  <td>\n",
        "    <a href=\"https://storage.googleapis.com/tensorflow_docs/text/docs/tutorials/fine_tune_bert.ipynb\"><img src=\"https://www.tensorflow.org/images/download_logo_32px.png\" />Download notebook</a>\n",
        "  </td>\n",
        "  <td>\n",
        "    <a href=\"https://tfhub.dev/tensorflow/bert_en_uncased_L-12_H-768_A-12/2\"><img src=\"https://www.tensorflow.org/images/hub_logo_32px.png\" />See TF Hub model</a>\n",
        "  </td>\n",
        "</table>"
      ]
    },
    {
      "cell_type": "markdown",
      "metadata": {
        "id": "YN2ACivEPxgD"
      },
      "source": [
        "In this example, we will work through fine-tuning a BERT model using the tensorflow-models PIP package.\n",
        "\n",
        "The pretrained BERT model this tutorial is based on is also available on [TensorFlow Hub](https://tensorflow.org/hub), to see how to use it refer to the [Hub Appendix](#hub_bert)"
      ]
    },
    {
      "cell_type": "markdown",
      "metadata": {
        "id": "s2d9S2CSSO1z"
      },
      "source": [
        "## Setup"
      ]
    },
    {
      "cell_type": "markdown",
      "metadata": {
        "id": "fsACVQpVSifi"
      },
      "source": [
        "### Install the TensorFlow Model Garden pip package\n",
        "\n",
        "*  `tf-models-official` is the stable Model Garden package. Note that it may not include the latest changes in the `tensorflow_models` github repo. To include latest changes, you may install `tf-models-nightly`,\n",
        "which is the nightly Model Garden package created daily automatically.\n",
        "*  pip will install all models and dependencies automatically."
      ]
    },
    {
      "cell_type": "code",
      "source": [
        "from google.colab import drive\n",
        "drive.mount('/gdrive')"
      ],
      "metadata": {
        "colab": {
          "base_uri": "https://localhost:8080/"
        },
        "id": "EO8TXeC6uypO",
        "outputId": "dce70fcc-6a8d-45ca-e54c-d839d80c6890"
      },
      "execution_count": 64,
      "outputs": [
        {
          "output_type": "stream",
          "name": "stdout",
          "text": [
            "Mounted at /gdrive\n"
          ]
        }
      ]
    },
    {
      "cell_type": "code",
      "execution_count": 1,
      "metadata": {
        "id": "yic2y7_o-BCC",
        "colab": {
          "base_uri": "https://localhost:8080/"
        },
        "outputId": "b4a1010f-953d-49e6-ae5a-32b536a9a599"
      },
      "outputs": [
        {
          "output_type": "stream",
          "name": "stdout",
          "text": [
            "\u001b[K     |████████████████████████████████| 4.9 MB 5.3 MB/s \n",
            "\u001b[K     |████████████████████████████████| 462 kB 45.7 MB/s \n",
            "\u001b[?25h"
          ]
        }
      ],
      "source": [
        "!pip install -q -U \"tensorflow-text==2.8.*\""
      ]
    },
    {
      "cell_type": "code",
      "execution_count": 2,
      "metadata": {
        "id": "NvNr2svBM-p3",
        "colab": {
          "base_uri": "https://localhost:8080/"
        },
        "outputId": "bd289556-c645-448e-dca1-a37f24ea67e9"
      },
      "outputs": [
        {
          "output_type": "stream",
          "name": "stdout",
          "text": [
            "\u001b[K     |████████████████████████████████| 1.1 MB 5.2 MB/s \n",
            "\u001b[K     |████████████████████████████████| 596 kB 26.2 MB/s \n",
            "\u001b[K     |████████████████████████████████| 237 kB 52.2 MB/s \n",
            "\u001b[K     |████████████████████████████████| 352 kB 51.2 MB/s \n",
            "\u001b[K     |████████████████████████████████| 1.1 MB 31.2 MB/s \n",
            "\u001b[K     |████████████████████████████████| 99 kB 9.2 MB/s \n",
            "\u001b[K     |████████████████████████████████| 1.2 MB 37.0 MB/s \n",
            "\u001b[K     |████████████████████████████████| 47.8 MB 63 kB/s \n",
            "\u001b[K     |████████████████████████████████| 43 kB 1.9 MB/s \n",
            "\u001b[?25h  Building wheel for py-cpuinfo (setup.py) ... \u001b[?25l\u001b[?25hdone\n",
            "  Building wheel for seqeval (setup.py) ... \u001b[?25l\u001b[?25hdone\n"
          ]
        }
      ],
      "source": [
        "!pip install -q tf-models-official==2.4.0"
      ]
    },
    {
      "cell_type": "markdown",
      "metadata": {
        "id": "U-7qPCjWUAyy"
      },
      "source": [
        "### Imports"
      ]
    },
    {
      "cell_type": "code",
      "execution_count": 3,
      "metadata": {
        "id": "lXsXev5MNr20"
      },
      "outputs": [],
      "source": [
        "import os\n",
        "\n",
        "import numpy as np\n",
        "import matplotlib.pyplot as plt\n",
        "\n",
        "import tensorflow as tf\n",
        "\n",
        "import tensorflow_hub as hub\n",
        "import tensorflow_datasets as tfds\n",
        "tfds.disable_progress_bar()\n",
        "\n",
        "from official.modeling import tf_utils\n",
        "from official import nlp\n",
        "from official.nlp import bert\n",
        "\n",
        "# Load the required submodules\n",
        "import official.nlp.optimization\n",
        "import official.nlp.bert.bert_models\n",
        "import official.nlp.bert.configs\n",
        "import official.nlp.bert.run_classifier\n",
        "import official.nlp.bert.tokenization\n",
        "import official.nlp.data.classifier_data_lib\n",
        "import official.nlp.modeling.losses\n",
        "import official.nlp.modeling.models\n",
        "import official.nlp.modeling.networks\n"
      ]
    },
    {
      "cell_type": "markdown",
      "metadata": {
        "id": "mbanlzTvJBsz"
      },
      "source": [
        "### Resources"
      ]
    },
    {
      "cell_type": "markdown",
      "metadata": {
        "id": "PpW0x8TpR8DT"
      },
      "source": [
        "This directory contains the configuration, vocabulary, and a pre-trained checkpoint used in this tutorial:"
      ]
    },
    {
      "cell_type": "code",
      "execution_count": 4,
      "metadata": {
        "id": "vzRHOLciR8eq",
        "colab": {
          "base_uri": "https://localhost:8080/"
        },
        "outputId": "6b3c9770-e693-4135-e35a-5e6680c2d57c"
      },
      "outputs": [
        {
          "output_type": "execute_result",
          "data": {
            "text/plain": [
              "['bert_config.json',\n",
              " 'bert_model.ckpt.data-00000-of-00001',\n",
              " 'bert_model.ckpt.index',\n",
              " 'vocab.txt']"
            ]
          },
          "metadata": {},
          "execution_count": 4
        }
      ],
      "source": [
        "gs_folder_bert = \"gs://cloud-tpu-checkpoints/bert/v3/uncased_L-12_H-768_A-12\"\n",
        "tf.io.gfile.listdir(gs_folder_bert)"
      ]
    },
    {
      "cell_type": "markdown",
      "metadata": {
        "id": "9uFskufsR2LT"
      },
      "source": [
        "You can get a pre-trained BERT encoder from [TensorFlow Hub](https://tfhub.dev/tensorflow/bert_en_uncased_L-12_H-768_A-12/2):"
      ]
    },
    {
      "cell_type": "code",
      "execution_count": 5,
      "metadata": {
        "id": "e0dAkUttJAzj"
      },
      "outputs": [],
      "source": [
        "hub_url_bert = \"https://tfhub.dev/tensorflow/bert_en_uncased_L-12_H-768_A-12/3\""
      ]
    },
    {
      "cell_type": "markdown",
      "metadata": {
        "id": "Qv6abtRvH4xO"
      },
      "source": [
        "## The data\n",
        "For this example we used the [GLUE MRPC dataset from TFDS](https://www.tensorflow.org/datasets/catalog/glue#gluemrpc).\n",
        "\n",
        "This dataset is not set up so that it can be directly fed into the BERT model, so this section also handles the necessary preprocessing."
      ]
    },
    {
      "cell_type": "markdown",
      "metadata": {
        "id": "28DvUhC1YUiB"
      },
      "source": [
        "### Get the dataset from TensorFlow Datasets\n",
        "\n",
        "The Microsoft Research Paraphrase Corpus (Dolan & Brockett, 2005) is a corpus of sentence pairs automatically extracted from online news sources, with human annotations for whether the sentences in the pair are semantically equivalent.\n",
        "\n",
        "*   Number of labels: 2.\n",
        "*   Size of training dataset: 3668.\n",
        "*   Size of evaluation dataset: 408.\n",
        "*   Maximum sequence length of training and evaluation dataset: 128.\n"
      ]
    },
    {
      "cell_type": "code",
      "execution_count": 6,
      "metadata": {
        "id": "Ijikx5OsH9AT",
        "colab": {
          "base_uri": "https://localhost:8080/"
        },
        "outputId": "ac2da053-9bb8-4ed3-b144-dcf472fff9df"
      },
      "outputs": [
        {
          "output_type": "stream",
          "name": "stdout",
          "text": [
            "\u001b[1mDownloading and preparing dataset glue/mrpc/1.0.0 (download: 1.43 MiB, generated: Unknown size, total: 1.43 MiB) to /root/tensorflow_datasets/glue/mrpc/1.0.0...\u001b[0m\n",
            "Shuffling and writing examples to /root/tensorflow_datasets/glue/mrpc/1.0.0.incomplete499FVM/glue-train.tfrecord\n",
            "Shuffling and writing examples to /root/tensorflow_datasets/glue/mrpc/1.0.0.incomplete499FVM/glue-validation.tfrecord\n",
            "Shuffling and writing examples to /root/tensorflow_datasets/glue/mrpc/1.0.0.incomplete499FVM/glue-test.tfrecord\n",
            "\u001b[1mDataset glue downloaded and prepared to /root/tensorflow_datasets/glue/mrpc/1.0.0. Subsequent calls will reuse this data.\u001b[0m\n",
            "WARNING:tensorflow:From /usr/local/lib/python3.7/dist-packages/tensorflow_datasets/core/dataset_builder.py:598: get_single_element (from tensorflow.python.data.experimental.ops.get_single_element) is deprecated and will be removed in a future version.\n",
            "Instructions for updating:\n",
            "Use `tf.data.Dataset.get_single_element()`.\n"
          ]
        },
        {
          "output_type": "stream",
          "name": "stderr",
          "text": [
            "WARNING:tensorflow:From /usr/local/lib/python3.7/dist-packages/tensorflow_datasets/core/dataset_builder.py:598: get_single_element (from tensorflow.python.data.experimental.ops.get_single_element) is deprecated and will be removed in a future version.\n",
            "Instructions for updating:\n",
            "Use `tf.data.Dataset.get_single_element()`.\n"
          ]
        }
      ],
      "source": [
        "# GLUE, the General Language Understanding Evaluation benchmark (https://gluebenchmark.com/) \n",
        "# is a collection of resources for training, evaluating, and analyzing natural language understanding systems.\n",
        "\n",
        "glue, info = tfds.load('glue/mrpc', with_info=True,\n",
        "                       # It's small, load the whole dataset\n",
        "                       batch_size=-1)"
      ]
    },
    {
      "cell_type": "code",
      "execution_count": 7,
      "metadata": {
        "id": "xf9zz4vLYXjr",
        "colab": {
          "base_uri": "https://localhost:8080/"
        },
        "outputId": "3c1092e4-ff24-48e7-888f-5e8f6a01fb8a"
      },
      "outputs": [
        {
          "output_type": "execute_result",
          "data": {
            "text/plain": [
              "['test', 'train', 'validation']"
            ]
          },
          "metadata": {},
          "execution_count": 7
        }
      ],
      "source": [
        "list(glue.keys())"
      ]
    },
    {
      "cell_type": "markdown",
      "metadata": {
        "id": "ZgBg2r2nYT-K"
      },
      "source": [
        "The `info` object describes the dataset and it's features:"
      ]
    },
    {
      "cell_type": "code",
      "execution_count": 8,
      "metadata": {
        "id": "IQrHxv7W7jH5",
        "colab": {
          "base_uri": "https://localhost:8080/"
        },
        "outputId": "3d31ca81-3608-401f-c55b-6e071838402c"
      },
      "outputs": [
        {
          "output_type": "execute_result",
          "data": {
            "text/plain": [
              "FeaturesDict({\n",
              "    'idx': tf.int32,\n",
              "    'label': ClassLabel(shape=(), dtype=tf.int64, num_classes=2),\n",
              "    'sentence1': Text(shape=(), dtype=tf.string),\n",
              "    'sentence2': Text(shape=(), dtype=tf.string),\n",
              "})"
            ]
          },
          "metadata": {},
          "execution_count": 8
        }
      ],
      "source": [
        "info.features"
      ]
    },
    {
      "cell_type": "markdown",
      "metadata": {
        "id": "vhsVWYNxazz5"
      },
      "source": [
        "The two classes are:"
      ]
    },
    {
      "cell_type": "code",
      "execution_count": 9,
      "metadata": {
        "id": "n0gfc_VTayfQ",
        "colab": {
          "base_uri": "https://localhost:8080/"
        },
        "outputId": "6957cc2e-e061-4ed7-8f97-16e8ebd02f23"
      },
      "outputs": [
        {
          "output_type": "execute_result",
          "data": {
            "text/plain": [
              "['not_equivalent', 'equivalent']"
            ]
          },
          "metadata": {},
          "execution_count": 9
        }
      ],
      "source": [
        "info.features['label'].names"
      ]
    },
    {
      "cell_type": "markdown",
      "metadata": {
        "id": "38zJcap6xkbC"
      },
      "source": [
        "Here is one example from the training set:"
      ]
    },
    {
      "cell_type": "code",
      "execution_count": 10,
      "metadata": {
        "id": "xON_i6SkwApW",
        "colab": {
          "base_uri": "https://localhost:8080/"
        },
        "outputId": "5a649e2d-9420-414a-b951-2c13d9493ae4"
      },
      "outputs": [
        {
          "output_type": "stream",
          "name": "stdout",
          "text": [
            "idx      : 1680\n",
            "label    : 0\n",
            "sentence1: b'The identical rovers will act as robotic geologists , searching for evidence of past water .'\n",
            "sentence2: b'The rovers act as robotic geologists , moving on six wheels .'\n"
          ]
        }
      ],
      "source": [
        "glue_train = glue['train']\n",
        "\n",
        "for key, value in glue_train.items():\n",
        "  print(f\"{key:9s}: {value[0].numpy()}\")"
      ]
    },
    {
      "cell_type": "markdown",
      "metadata": {
        "id": "9fbTyfJpNr7x"
      },
      "source": [
        "### The BERT tokenizer"
      ]
    },
    {
      "cell_type": "markdown",
      "metadata": {
        "id": "wqeN54S61ZKQ"
      },
      "source": [
        "To fine tune a pre-trained model you need to be sure that you're using exactly the same tokenization, vocabulary, and index mapping as you used during training.\n",
        "\n",
        "The BERT tokenizer used in this tutorial is written in pure Python (It's not built out of TensorFlow ops). So you can't just plug it into your model as a `keras.layer` like you can with `preprocessing.TextVectorization`.\n",
        "\n",
        "The following code rebuilds the tokenizer that was used by the base model:"
      ]
    },
    {
      "cell_type": "code",
      "execution_count": 11,
      "metadata": {
        "id": "idxyhmrCQcw5",
        "colab": {
          "base_uri": "https://localhost:8080/"
        },
        "outputId": "0df92660-6879-44cb-c650-0446b7b6d7da"
      },
      "outputs": [
        {
          "output_type": "stream",
          "name": "stdout",
          "text": [
            "Vocab size: 30522\n"
          ]
        }
      ],
      "source": [
        "# Set up tokenizer to generate Tensorflow dataset\n",
        "tokenizer = bert.tokenization.FullTokenizer(\n",
        "    vocab_file=os.path.join(gs_folder_bert, \"vocab.txt\"),\n",
        "     do_lower_case=True)\n",
        "\n",
        "print(\"Vocab size:\", len(tokenizer.vocab))"
      ]
    },
    {
      "cell_type": "markdown",
      "metadata": {
        "id": "zYHDSquU2lDU"
      },
      "source": [
        "Tokenize a sentence:"
      ]
    },
    {
      "cell_type": "code",
      "execution_count": 12,
      "metadata": {
        "id": "L_OfOYPg853R",
        "colab": {
          "base_uri": "https://localhost:8080/"
        },
        "outputId": "22e74f8c-3e44-45d2-a1f0-98889e86d16c"
      },
      "outputs": [
        {
          "output_type": "stream",
          "name": "stdout",
          "text": [
            "['hello', 'tensor', '##flow', '!']\n",
            "[7592, 23435, 12314, 999]\n"
          ]
        }
      ],
      "source": [
        "tokens = tokenizer.tokenize(\"Hello TensorFlow!\")\n",
        "print(tokens)\n",
        "ids = tokenizer.convert_tokens_to_ids(tokens)\n",
        "print(ids)"
      ]
    },
    {
      "cell_type": "markdown",
      "metadata": {
        "id": "kkAXLtuyWWDI"
      },
      "source": [
        "### Preprocess the data\n",
        "\n",
        "The section manually preprocessed the dataset into the format expected by the model.\n",
        "\n",
        "This dataset is small, so preprocessing can be done quickly and easily in memory. For larger datasets the `tf_models` library includes some tools for preprocessing and re-serializing a dataset. See [Appendix: Re-encoding a large dataset](#re_encoding_tools) for details."
      ]
    },
    {
      "cell_type": "markdown",
      "metadata": {
        "id": "62UTWLQd9-LB"
      },
      "source": [
        "#### Encode the sentences\n",
        "\n",
        "The model expects its two inputs sentences to be concatenated together. This input is expected to start with a `[CLS]` \"This is a classification problem\" token, and each sentence should end with a `[SEP]` \"Separator\" token:"
      ]
    },
    {
      "cell_type": "code",
      "execution_count": 13,
      "metadata": {
        "id": "bdL-dRNRBRJT",
        "colab": {
          "base_uri": "https://localhost:8080/"
        },
        "outputId": "2df1f77b-c10d-4e78-b4db-e30d9a3f5583"
      },
      "outputs": [
        {
          "output_type": "execute_result",
          "data": {
            "text/plain": [
              "[101, 102]"
            ]
          },
          "metadata": {},
          "execution_count": 13
        }
      ],
      "source": [
        "tokenizer.convert_tokens_to_ids(['[CLS]', '[SEP]'])"
      ]
    },
    {
      "cell_type": "markdown",
      "metadata": {
        "id": "UrPktnqpwqie"
      },
      "source": [
        "Start by encoding all the sentences while appending a `[SEP]` token, and packing them into ragged-tensors:"
      ]
    },
    {
      "cell_type": "code",
      "execution_count": 14,
      "metadata": {
        "id": "BR7BmtU498Bh"
      },
      "outputs": [],
      "source": [
        "def encode_sentence(s):\n",
        "   tokens = list(tokenizer.tokenize(s.numpy()))\n",
        "   tokens.append('[SEP]')\n",
        "   return tokenizer.convert_tokens_to_ids(tokens)\n",
        "\n",
        "sentence1 = tf.ragged.constant([\n",
        "    encode_sentence(s) for s in glue_train[\"sentence1\"]])\n",
        "sentence2 = tf.ragged.constant([\n",
        "    encode_sentence(s) for s in glue_train[\"sentence2\"]])"
      ]
    },
    {
      "cell_type": "code",
      "source": [
        "print(sentence1[0].shape)\n",
        "print(sentence1[0])\n",
        "print(sentence2[0].shape)\n",
        "print(sentence2[0])\n",
        "print(sentence1[1].shape)\n",
        "print(sentence1[1])\n"
      ],
      "metadata": {
        "id": "471nkhOrlKno",
        "outputId": "d1d5a0c7-552b-42c4-c17e-0a2ad9690acb",
        "colab": {
          "base_uri": "https://localhost:8080/"
        }
      },
      "execution_count": 15,
      "outputs": [
        {
          "output_type": "stream",
          "name": "stdout",
          "text": [
            "(18,)\n",
            "tf.Tensor(\n",
            "[ 1996  7235  9819  2097  2552  2004 20478 21334  2015  1010  6575  2005\n",
            "  3350  1997  2627  2300  1012   102], shape=(18,), dtype=int32)\n",
            "(14,)\n",
            "tf.Tensor(\n",
            "[ 1996  9819  2552  2004 20478 21334  2015  1010  3048  2006  2416  7787\n",
            "  1012   102], shape=(14,), dtype=int32)\n",
            "(25,)\n",
            "tf.Tensor(\n",
            "[ 2625  2084  2322  3867  1997 23193  1005  1055  4341  2052  2272  2013\n",
            "  2437 13891  1998  3259  2044  1996  2436 17848  5309  2003  2949  1012\n",
            "   102], shape=(25,), dtype=int32)\n"
          ]
        }
      ]
    },
    {
      "cell_type": "markdown",
      "source": [
        ""
      ],
      "metadata": {
        "id": "k-kpczkWlE10"
      }
    },
    {
      "cell_type": "code",
      "execution_count": 16,
      "metadata": {
        "id": "has42aUdfky-",
        "colab": {
          "base_uri": "https://localhost:8080/"
        },
        "outputId": "e962ca3b-ef80-44cc-f1ca-764de59bbb33"
      },
      "outputs": [
        {
          "output_type": "stream",
          "name": "stdout",
          "text": [
            "Sentence1 shape: [3668, None]\n",
            "Sentence2 shape: [3668, None]\n"
          ]
        }
      ],
      "source": [
        "print(\"Sentence1 shape:\", sentence1.shape.as_list())\n",
        "print(\"Sentence2 shape:\", sentence2.shape.as_list())"
      ]
    },
    {
      "cell_type": "markdown",
      "metadata": {
        "id": "MU9lTWy_xXbb"
      },
      "source": [
        "Now prepend a `[CLS]` token, and concatenate the ragged tensors to form a single `input_word_ids` tensor for each example. `RaggedTensor.to_tensor()` zero pads to the longest sequence."
      ]
    },
    {
      "cell_type": "code",
      "execution_count": 17,
      "metadata": {
        "id": "USD8uihw-g4J",
        "colab": {
          "base_uri": "https://localhost:8080/",
          "height": 265
        },
        "outputId": "5d5c311e-8dec-4eda-a37a-8e857363e9ee"
      },
      "outputs": [
        {
          "output_type": "display_data",
          "data": {
            "text/plain": [
              "<Figure size 432x288 with 1 Axes>"
            ],
            "image/png": "[encoded data removed]"
          },
          "metadata": {
            "needs_background": "light"
          }
        }
      ],
      "source": [
        "cls = [tokenizer.convert_tokens_to_ids(['[CLS]'])]*sentence1.shape[0]\n",
        "input_word_ids = tf.concat([cls, sentence1, sentence2], axis=-1)\n",
        "_ = plt.pcolormesh(input_word_ids.to_tensor())"
      ]
    },
    {
      "cell_type": "code",
      "source": [
        "print(len(cls))\n",
        "print(input_word_ids.shape)\n",
        "print(input_word_ids[0]) # CLS + sent 1 + SEP +  sent 2 + SEP\n",
        "\n",
        "print(input_word_ids)"
      ],
      "metadata": {
        "id": "0bEZAAdclkBJ",
        "outputId": "a81c406f-e42c-4ae1-e5d0-9f871ff75fd4",
        "colab": {
          "base_uri": "https://localhost:8080/"
        }
      },
      "execution_count": 18,
      "outputs": [
        {
          "output_type": "stream",
          "name": "stdout",
          "text": [
            "3668\n",
            "(3668, None)\n",
            "tf.Tensor(\n",
            "[  101  1996  7235  9819  2097  2552  2004 20478 21334  2015  1010  6575\n",
            "  2005  3350  1997  2627  2300  1012   102  1996  9819  2552  2004 20478\n",
            " 21334  2015  1010  3048  2006  2416  7787  1012   102], shape=(33,), dtype=int32)\n",
            "<tf.RaggedTensor [[101, 1996, 7235, 9819, 2097, 2552, 2004, 20478, 21334, 2015, 1010, 6575,\n",
            "  2005, 3350, 1997, 2627, 2300, 1012, 102, 1996, 9819, 2552, 2004, 20478,\n",
            "  21334, 2015, 1010, 3048, 2006, 2416, 7787, 1012, 102]                   ,\n",
            " [101, 2625, 2084, 2322, 3867, 1997, 23193, 1005, 1055, 4341, 2052, 2272,\n",
            "  2013, 2437, 13891, 1998, 3259, 2044, 1996, 2436, 17848, 5309, 2003, 2949,\n",
            "  1012, 102, 2625, 2084, 2322, 3867, 1997, 23193, 1005, 1055, 4341, 2052,\n",
            "  2272, 2013, 2437, 13891, 1998, 3259, 2044, 1996, 2436, 17848, 5309, 2003,\n",
            "  3143, 1010, 10262, 2216, 5661, 4995, 1005, 1056, 2853, 1012, 102]        ,\n",
            " [101, 6804, 1011, 2158, 14177, 1002, 12457, 1012, 1021, 2454, 1999, 2049,\n",
            "  2834, 2197, 2095, 1998, 2253, 2006, 2000, 5425, 1002, 28203, 1012, 1021,\n",
            "  2454, 1012, 102, 6804, 1011, 2158, 1010, 6758, 18720, 1011, 2410, 1010,\n",
            "  14177, 1002, 12457, 1012, 1021, 2454, 1999, 2049, 2034, 5353, 1998, 2253,\n",
            "  2006, 2000, 2202, 1999, 1002, 28203, 1012, 1021, 2454, 1012, 102]        ,\n",
            " ...,\n",
            " [101, 9991, 2056, 2002, 2106, 2053, 2147, 2005, 10911, 2127, 2639, 1010,\n",
            "  2043, 1037, 2882, 6467, 2211, 11538, 9033, 20899, 3334, 1012, 102, 9991,\n",
            "  14914, 2008, 2002, 2001, 2025, 2356, 2000, 2079, 2151, 2147, 2005, 10911,\n",
            "  2127, 2238, 2639, 1010, 2044, 1037, 2882, 6467, 11538, 9033, 20899, 3334,\n",
            "  4942, 6873, 8189, 2098, 10911, 1012, 102]                                ,\n",
            " [101, 1996, 5016, 2600, 2001, 2034, 5159, 2006, 2257, 2484, 2011, 5367,\n",
            "  2379, 1011, 3011, 12175, 2470, 2565, 1010, 2241, 1999, 27084, 29459, 1010,\n",
            "  2047, 3290, 1012, 102, 1996, 2600, 2001, 2034, 5159, 2011, 1996, 5367,\n",
            "  2379, 3011, 12175, 2470, 2565, 1010, 2036, 2124, 2004, 7399, 1012, 102]   ,\n",
            " [101, 2048, 1997, 6868, 1005, 2327, 16838, 2097, 23363, 2007, 2110, 2610,\n",
            "  2076, 1996, 4812, 1998, 5646, 2065, 2151, 2976, 4277, 2020, 14424, 1010,\n",
            "  2002, 2056, 5958, 1012, 102, 1057, 1012, 1055, 1012, 4905, 10799, 6868,\n",
            "  2036, 2056, 2048, 1997, 2010, 16838, 2097, 23363, 2007, 2110, 2610, 2076,\n",
            "  1996, 4812, 1998, 5646, 2065, 2151, 2976, 4277, 2020, 3714, 1012, 102]   ]>\n"
          ]
        }
      ]
    },
    {
      "cell_type": "markdown",
      "metadata": {
        "id": "xmNv4l4k-dBZ"
      },
      "source": [
        "#### Mask and input type"
      ]
    },
    {
      "cell_type": "markdown",
      "metadata": {
        "id": "DIWjNIKq-ldh"
      },
      "source": [
        "The model expects two additional inputs:\n",
        "\n",
        "* The input mask\n",
        "* The input type"
      ]
    },
    {
      "cell_type": "markdown",
      "metadata": {
        "id": "ulNZ4U96-8JZ"
      },
      "source": [
        "The mask allows the model to cleanly differentiate between the content and the padding. The mask has the same shape as the `input_word_ids`, and contains a `1` anywhere the `input_word_ids` is not padding."
      ]
    },
    {
      "cell_type": "code",
      "execution_count": 19,
      "metadata": {
        "id": "EezOO9qj91kP",
        "colab": {
          "base_uri": "https://localhost:8080/",
          "height": 282
        },
        "outputId": "a53a64bb-00fc-4e06-cd65-461365c1f1d2"
      },
      "outputs": [
        {
          "output_type": "execute_result",
          "data": {
            "text/plain": [
              "<matplotlib.collections.QuadMesh at 0x7f15b013ad50>"
            ]
          },
          "metadata": {},
          "execution_count": 19
        },
        {
          "output_type": "display_data",
          "data": {
            "text/plain": [
              "<Figure size 432x288 with 1 Axes>"
            ],
            "image/png": "[encoded data removed]"
          },
          "metadata": {
            "needs_background": "light"
          }
        }
      ],
      "source": [
        "input_mask = tf.ones_like(input_word_ids).to_tensor()\n",
        "\n",
        "plt.pcolormesh(input_mask)"
      ]
    },
    {
      "cell_type": "markdown",
      "metadata": {
        "id": "rxLenwAvCkBf"
      },
      "source": [
        "The \"input type\" also has the same shape, but inside the non-padded region, contains a `0` or a `1` indicating which sentence the token is a part of. "
      ]
    },
    {
      "cell_type": "code",
      "execution_count": 20,
      "metadata": {
        "id": "2CetH_5C9P2m",
        "colab": {
          "base_uri": "https://localhost:8080/",
          "height": 282
        },
        "outputId": "e19e95b3-c847-4b87-ce50-92ce6847c197"
      },
      "outputs": [
        {
          "output_type": "execute_result",
          "data": {
            "text/plain": [
              "<matplotlib.collections.QuadMesh at 0x7f15b008ec90>"
            ]
          },
          "metadata": {},
          "execution_count": 20
        },
        {
          "output_type": "display_data",
          "data": {
            "text/plain": [
              "<Figure size 432x288 with 1 Axes>"
            ],
            "image/png": "[encoded data removed]"
          },
          "metadata": {
            "needs_background": "light"
          }
        }
      ],
      "source": [
        "type_cls = tf.zeros_like(cls)\n",
        "type_s1 = tf.zeros_like(sentence1)\n",
        "type_s2 = tf.ones_like(sentence2)\n",
        "input_type_ids = tf.concat([type_cls, type_s1, type_s2], axis=-1).to_tensor()\n",
        "\n",
        "plt.pcolormesh(input_type_ids)"
      ]
    },
    {
      "cell_type": "markdown",
      "metadata": {
        "id": "P5UBnCn8Ii6s"
      },
      "source": [
        "#### Put it all together\n",
        "\n",
        "Collect the above text parsing code into a single function, and apply it to each split of the `glue/mrpc` dataset."
      ]
    },
    {
      "cell_type": "code",
      "execution_count": 21,
      "metadata": {
        "id": "sDGiWYPLEd5a"
      },
      "outputs": [],
      "source": [
        "def encode_sentence(s, tokenizer):\n",
        "   tokens = list(tokenizer.tokenize(s))\n",
        "   tokens.append('[SEP]')\n",
        "   return tokenizer.convert_tokens_to_ids(tokens)\n",
        "\n",
        "def bert_encode(glue_dict, tokenizer):\n",
        "  num_examples = len(glue_dict[\"sentence1\"])\n",
        "  \n",
        "  sentence1 = tf.ragged.constant([\n",
        "      encode_sentence(s, tokenizer)\n",
        "      for s in np.array(glue_dict[\"sentence1\"])])\n",
        "  sentence2 = tf.ragged.constant([\n",
        "      encode_sentence(s, tokenizer)\n",
        "       for s in np.array(glue_dict[\"sentence2\"])])\n",
        "\n",
        "  cls = [tokenizer.convert_tokens_to_ids(['[CLS]'])]*sentence1.shape[0]\n",
        "  input_word_ids = tf.concat([cls, sentence1, sentence2], axis=-1)\n",
        "\n",
        "  input_mask = tf.ones_like(input_word_ids).to_tensor()\n",
        "\n",
        "  type_cls = tf.zeros_like(cls)\n",
        "  type_s1 = tf.zeros_like(sentence1)\n",
        "  type_s2 = tf.ones_like(sentence2)\n",
        "  input_type_ids = tf.concat(\n",
        "      [type_cls, type_s1, type_s2], axis=-1).to_tensor()\n",
        "\n",
        "  inputs = {\n",
        "      'input_word_ids': input_word_ids.to_tensor(),\n",
        "      'input_mask': input_mask,\n",
        "      'input_type_ids': input_type_ids}\n",
        "\n",
        "  return inputs"
      ]
    },
    {
      "cell_type": "code",
      "execution_count": 22,
      "metadata": {
        "id": "yuLKxf6zHxw-"
      },
      "outputs": [],
      "source": [
        "glue_train = bert_encode(glue['train'], tokenizer)\n",
        "glue_train_labels = glue['train']['label']\n",
        "\n",
        "glue_validation = bert_encode(glue['validation'], tokenizer)\n",
        "glue_validation_labels = glue['validation']['label']\n",
        "\n",
        "glue_test = bert_encode(glue['test'], tokenizer)\n",
        "glue_test_labels  = glue['test']['label']"
      ]
    },
    {
      "cell_type": "markdown",
      "metadata": {
        "id": "7FC5aLVxKVKK"
      },
      "source": [
        "Each subset of the data has been converted to a dictionary of features, and a set of labels. Each feature in the input dictionary has the same shape, and the number of labels should match:"
      ]
    },
    {
      "cell_type": "code",
      "execution_count": 23,
      "metadata": {
        "id": "jyjTdGpFhO_1",
        "colab": {
          "base_uri": "https://localhost:8080/"
        },
        "outputId": "3caeeff5-0e37-4518-af00-dc5ff6a034d9"
      },
      "outputs": [
        {
          "output_type": "stream",
          "name": "stdout",
          "text": [
            "input_word_ids  shape: (3668, 103)\n",
            "input_mask      shape: (3668, 103)\n",
            "input_type_ids  shape: (3668, 103)\n",
            "glue_train_labels shape: (3668,)\n"
          ]
        }
      ],
      "source": [
        "for key, value in glue_train.items():\n",
        "  print(f'{key:15s} shape: {value.shape}')\n",
        "\n",
        "print(f'glue_train_labels shape: {glue_train_labels.shape}')"
      ]
    },
    {
      "cell_type": "markdown",
      "metadata": {
        "id": "FSwymsbkbLDA"
      },
      "source": [
        "## The model"
      ]
    },
    {
      "cell_type": "markdown",
      "metadata": {
        "id": "Efrj3Cn1kLAp"
      },
      "source": [
        "### Build the model\n"
      ]
    },
    {
      "cell_type": "markdown",
      "metadata": {
        "id": "xxpOY5r2Ayq6"
      },
      "source": [
        "The first step is to download the configuration  for the pre-trained model.\n"
      ]
    },
    {
      "cell_type": "code",
      "execution_count": 24,
      "metadata": {
        "id": "ujapVfZ_AKW7",
        "colab": {
          "base_uri": "https://localhost:8080/"
        },
        "outputId": "9429b80e-b209-40b3-f458-647cccb4d773"
      },
      "outputs": [
        {
          "output_type": "execute_result",
          "data": {
            "text/plain": [
              "{'attention_probs_dropout_prob': 0.1,\n",
              " 'hidden_act': 'gelu',\n",
              " 'hidden_dropout_prob': 0.1,\n",
              " 'hidden_size': 768,\n",
              " 'initializer_range': 0.02,\n",
              " 'intermediate_size': 3072,\n",
              " 'max_position_embeddings': 512,\n",
              " 'num_attention_heads': 12,\n",
              " 'num_hidden_layers': 12,\n",
              " 'type_vocab_size': 2,\n",
              " 'vocab_size': 30522}"
            ]
          },
          "metadata": {},
          "execution_count": 24
        }
      ],
      "source": [
        "import json\n",
        "\n",
        "bert_config_file = os.path.join(gs_folder_bert, \"bert_config.json\")\n",
        "config_dict = json.loads(tf.io.gfile.GFile(bert_config_file).read())\n",
        "\n",
        "bert_config = bert.configs.BertConfig.from_dict(config_dict)\n",
        "\n",
        "config_dict"
      ]
    },
    {
      "cell_type": "markdown",
      "metadata": {
        "id": "96ldxDSwkVkj"
      },
      "source": [
        "The `config` defines the core BERT Model, which is a Keras model to predict the outputs of `num_classes` from the inputs with maximum sequence length `max_seq_length`.\n",
        "\n",
        "This function returns both the encoder and the classifier."
      ]
    },
    {
      "cell_type": "code",
      "execution_count": 25,
      "metadata": {
        "id": "cH682__U0FBv",
        "colab": {
          "base_uri": "https://localhost:8080/"
        },
        "outputId": "65804c10-8ec8-41a9-e94d-1a5a92f0d74f"
      },
      "outputs": [
        {
          "output_type": "stream",
          "name": "stdout",
          "text": [
            "<official.nlp.modeling.models.bert_classifier.BertClassifier object at 0x7f1547344590>\n",
            "<official.nlp.modeling.networks.bert_encoder.BertEncoder object at 0x7f1547521710>\n"
          ]
        }
      ],
      "source": [
        "bert_classifier, bert_encoder = bert.bert_models.classifier_model(\n",
        "    bert_config, num_labels=2)\n",
        "\n",
        "print(bert_classifier)\n",
        "print(bert_encoder)"
      ]
    },
    {
      "cell_type": "markdown",
      "metadata": {
        "id": "XqKp3-5GIZlw"
      },
      "source": [
        "The classifier has three inputs and one output:"
      ]
    },
    {
      "cell_type": "code",
      "execution_count": 26,
      "metadata": {
        "id": "bAQblMIjwkvx",
        "colab": {
          "base_uri": "https://localhost:8080/",
          "height": 220
        },
        "outputId": "17dfc85e-ccea-4d8c-8e37-e0822cedb146"
      },
      "outputs": [
        {
          "output_type": "execute_result",
          "data": {
            "text/plain": [
              "<IPython.core.display.Image object>"
            ],
            "image/png": "[encoded data removed]"
          },
          "metadata": {},
          "execution_count": 26
        }
      ],
      "source": [
        "tf.keras.utils.plot_model(bert_classifier, show_shapes=True, dpi=48)"
      ]
    },
    {
      "cell_type": "markdown",
      "metadata": {
        "id": "sFmVG4SKZAw8"
      },
      "source": [
        "Run it on a test batch of data 10 examples from the training set. The output is the logits for the two classes:"
      ]
    },
    {
      "cell_type": "code",
      "execution_count": 27,
      "metadata": {
        "id": "VTjgPbp4ZDKo",
        "colab": {
          "base_uri": "https://localhost:8080/"
        },
        "outputId": "7f972b48-b72c-485f-b064-6d7e6c5a02ce"
      },
      "outputs": [
        {
          "output_type": "stream",
          "name": "stdout",
          "text": [
            "{'input_word_ids': <tf.Tensor: shape=(10, 103), dtype=int32, numpy=\n",
            "array([[ 101, 1996, 7235, ...,    0,    0,    0],\n",
            "       [ 101, 2625, 2084, ...,    0,    0,    0],\n",
            "       [ 101, 6804, 1011, ...,    0,    0,    0],\n",
            "       ...,\n",
            "       [ 101, 2216, 1999, ...,    0,    0,    0],\n",
            "       [ 101, 1996, 4433, ...,    0,    0,    0],\n",
            "       [ 101, 4319, 9722, ...,    0,    0,    0]], dtype=int32)>, 'input_mask': <tf.Tensor: shape=(10, 103), dtype=int32, numpy=\n",
            "array([[1, 1, 1, ..., 0, 0, 0],\n",
            "       [1, 1, 1, ..., 0, 0, 0],\n",
            "       [1, 1, 1, ..., 0, 0, 0],\n",
            "       ...,\n",
            "       [1, 1, 1, ..., 0, 0, 0],\n",
            "       [1, 1, 1, ..., 0, 0, 0],\n",
            "       [1, 1, 1, ..., 0, 0, 0]], dtype=int32)>, 'input_type_ids': <tf.Tensor: shape=(10, 103), dtype=int32, numpy=\n",
            "array([[0, 0, 0, ..., 0, 0, 0],\n",
            "       [0, 0, 0, ..., 0, 0, 0],\n",
            "       [0, 0, 0, ..., 0, 0, 0],\n",
            "       ...,\n",
            "       [0, 0, 0, ..., 0, 0, 0],\n",
            "       [0, 0, 0, ..., 0, 0, 0],\n",
            "       [0, 0, 0, ..., 0, 0, 0]], dtype=int32)>}\n",
            "tf.Tensor(\n",
            "[  101  1996  7235  9819  2097  2552  2004 20478 21334  2015  1010  6575\n",
            "  2005  3350  1997  2627  2300  1012   102  1996  9819  2552  2004 20478\n",
            " 21334  2015  1010  3048  2006  2416  7787  1012   102     0     0     0\n",
            "     0     0     0     0     0     0     0     0     0     0     0     0\n",
            "     0     0     0     0     0     0     0     0     0     0     0     0\n",
            "     0     0     0     0     0     0     0     0     0     0     0     0\n",
            "     0     0     0     0     0     0     0     0     0     0     0     0\n",
            "     0     0     0     0     0     0     0     0     0     0     0     0\n",
            "     0     0     0     0     0     0     0], shape=(103,), dtype=int32)\n"
          ]
        },
        {
          "output_type": "execute_result",
          "data": {
            "text/plain": [
              "array([[ 0.14496812,  0.02885887],\n",
              "       [-0.14593431,  0.16295277],\n",
              "       [ 0.18694992,  0.13936037],\n",
              "       [ 0.03529697,  0.1943871 ],\n",
              "       [ 0.12944648, -0.02058551],\n",
              "       [ 0.00563089,  0.13699369],\n",
              "       [-0.00593519,  0.05489692],\n",
              "       [-0.02414219,  0.11494693],\n",
              "       [ 0.07288209,  0.05938038],\n",
              "       [-0.04767989,  0.06495111]], dtype=float32)"
            ]
          },
          "metadata": {},
          "execution_count": 27
        }
      ],
      "source": [
        "glue_batch = {key: val[:10] for key, val in glue_train.items()}\n",
        "print(glue_batch)\n",
        "print(glue_batch['input_word_ids'][0])\n",
        "\n",
        "bert_classifier(\n",
        "    glue_batch, training=True\n",
        ").numpy()\n",
        "\n"
      ]
    },
    {
      "cell_type": "markdown",
      "metadata": {
        "id": "Q0NTdwZsQK8n"
      },
      "source": [
        "The `TransformerEncoder` in the center of the classifier above **is** the `bert_encoder`.\n",
        "\n",
        "Inspecting the encoder, we see its stack of `Transformer` layers connected to those same three inputs:"
      ]
    },
    {
      "cell_type": "code",
      "execution_count": 28,
      "metadata": {
        "id": "8L__-erBwLIQ",
        "colab": {
          "base_uri": "https://localhost:8080/",
          "height": 1000
        },
        "outputId": "e3306e07-160d-4415-8f7d-973376fd519a"
      },
      "outputs": [
        {
          "output_type": "execute_result",
          "data": {
            "text/plain": [
              "<IPython.core.display.Image object>"
            ],
            "image/png": "[encoded data removed]"
          },
          "metadata": {},
          "execution_count": 28
        }
      ],
      "source": [
        "tf.keras.utils.plot_model(bert_encoder, show_shapes=True, dpi=48)"
      ]
    },
    {
      "cell_type": "markdown",
      "metadata": {
        "id": "mKAvkQc3heSy"
      },
      "source": [
        "### Restore the encoder weights\n",
        "\n",
        "When built the encoder is randomly initialized. Restore the encoder's weights from the checkpoint:"
      ]
    },
    {
      "cell_type": "code",
      "execution_count": 29,
      "metadata": {
        "id": "97Ll2Gichd_Y",
        "colab": {
          "base_uri": "https://localhost:8080/"
        },
        "outputId": "f0559e85-7300-4b55-9d28-399d27e30f04"
      },
      "outputs": [
        {
          "output_type": "execute_result",
          "data": {
            "text/plain": [
              "<tensorflow.python.training.tracking.util.CheckpointLoadStatus at 0x7f1546dcf0d0>"
            ]
          },
          "metadata": {},
          "execution_count": 29
        }
      ],
      "source": [
        "checkpoint = tf.train.Checkpoint(encoder=bert_encoder)\n",
        "checkpoint.read(\n",
        "    os.path.join(gs_folder_bert, 'bert_model.ckpt')).assert_consumed()"
      ]
    },
    {
      "cell_type": "markdown",
      "metadata": {
        "id": "2oHOql35k3Dd"
      },
      "source": [
        "Note: The pretrained `TransformerEncoder` is also available on [TensorFlow Hub](https://tensorflow.org/hub). See the [Hub appendix](#hub_bert) for details. "
      ]
    },
    {
      "cell_type": "markdown",
      "metadata": {
        "id": "115caFLMk-_l"
      },
      "source": [
        "### Set up the optimizer\n",
        "\n",
        "BERT adopts the Adam optimizer with weight decay (aka \"[AdamW](https://arxiv.org/abs/1711.05101)\").\n",
        "It also employs a learning rate schedule that firstly warms up from 0 and then decays to 0."
      ]
    },
    {
      "cell_type": "code",
      "execution_count": 30,
      "metadata": {
        "id": "w8qXKRZuCwW4"
      },
      "outputs": [],
      "source": [
        "# The batch size is a number of samples processed before the model is updated.\n",
        "# The number of epochs is the number of complete passes through the training dataset.\n",
        "# The size of a batch must be more than or equal to one and less than or equal to the number of samples in the training dataset.\n",
        "\n",
        "# Set up epochs and steps\n",
        "epochs = 10\n",
        "batch_size = 32\n",
        "eval_batch_size = 32\n",
        "\n",
        "\n",
        "train_data_size = len(glue_train_labels)\n",
        "steps_per_epoch = int(train_data_size / batch_size)\n",
        "num_train_steps = steps_per_epoch * epochs\n",
        "warmup_steps = int(epochs * train_data_size * 0.1 / batch_size)\n",
        "\n",
        "# creates an optimizer with learning rate schedule\n",
        "optimizer = nlp.optimization.create_optimizer(\n",
        "    2e-5, num_train_steps=num_train_steps, num_warmup_steps=warmup_steps)"
      ]
    },
    {
      "cell_type": "markdown",
      "metadata": {
        "id": "pXRGxiRNEHS2"
      },
      "source": [
        "This returns an `AdamWeightDecay`  optimizer with the learning rate schedule set:"
      ]
    },
    {
      "cell_type": "code",
      "execution_count": 31,
      "metadata": {
        "id": "eQNA16bhDpky",
        "colab": {
          "base_uri": "https://localhost:8080/"
        },
        "outputId": "81a574cf-c982-41ec-8058-d5d8054c0b07"
      },
      "outputs": [
        {
          "output_type": "execute_result",
          "data": {
            "text/plain": [
              "official.nlp.optimization.AdamWeightDecay"
            ]
          },
          "metadata": {},
          "execution_count": 31
        }
      ],
      "source": [
        "type(optimizer)"
      ]
    },
    {
      "cell_type": "markdown",
      "metadata": {
        "id": "xqu_K71fJQB8"
      },
      "source": [
        "To see an example of how to customize the optimizer and it's schedule, see the [Optimizer schedule appendix](#optimizer_schedule)."
      ]
    },
    {
      "cell_type": "markdown",
      "metadata": {
        "id": "78FEUOOEkoP0"
      },
      "source": [
        "### Train the model"
      ]
    },
    {
      "cell_type": "markdown",
      "metadata": {
        "id": "OTNcA0O0nSq9"
      },
      "source": [
        "The metric is accuracy and we use sparse categorical cross-entropy as loss."
      ]
    },
    {
      "cell_type": "code",
      "execution_count": 32,
      "metadata": {
        "id": "nzi8hjeTQTRs",
        "colab": {
          "base_uri": "https://localhost:8080/"
        },
        "outputId": "0bd3ab63-5d99-4de0-b088-d8c3e7f3d441"
      },
      "outputs": [
        {
          "output_type": "stream",
          "name": "stdout",
          "text": [
            "Epoch 1/10\n",
            "115/115 [==============================] - 204s 2s/step - loss: 0.6062 - accuracy: 0.6985 - val_loss: 0.5103 - val_accuracy: 0.7721\n",
            "Epoch 2/10\n",
            "115/115 [==============================] - 185s 2s/step - loss: 0.4577 - accuracy: 0.7974 - val_loss: 0.4001 - val_accuracy: 0.8260\n",
            "Epoch 3/10\n",
            "115/115 [==============================] - 185s 2s/step - loss: 0.2599 - accuracy: 0.9040 - val_loss: 0.4423 - val_accuracy: 0.8284\n",
            "Epoch 4/10\n",
            "115/115 [==============================] - 185s 2s/step - loss: 0.1574 - accuracy: 0.9504 - val_loss: 0.4359 - val_accuracy: 0.8382\n",
            "Epoch 5/10\n",
            "115/115 [==============================] - 185s 2s/step - loss: 0.0924 - accuracy: 0.9757 - val_loss: 0.5083 - val_accuracy: 0.8505\n",
            "Epoch 6/10\n",
            "115/115 [==============================] - 185s 2s/step - loss: 0.0549 - accuracy: 0.9869 - val_loss: 0.6257 - val_accuracy: 0.8333\n",
            "Epoch 7/10\n",
            "115/115 [==============================] - 185s 2s/step - loss: 0.0360 - accuracy: 0.9926 - val_loss: 0.6373 - val_accuracy: 0.8431\n",
            "Epoch 8/10\n",
            "115/115 [==============================] - 185s 2s/step - loss: 0.0241 - accuracy: 0.9945 - val_loss: 0.6804 - val_accuracy: 0.8505\n",
            "Epoch 9/10\n",
            "115/115 [==============================] - 185s 2s/step - loss: 0.0229 - accuracy: 0.9951 - val_loss: 0.7071 - val_accuracy: 0.8407\n",
            "Epoch 10/10\n",
            "115/115 [==============================] - 185s 2s/step - loss: 0.0169 - accuracy: 0.9956 - val_loss: 0.6997 - val_accuracy: 0.8456\n"
          ]
        },
        {
          "output_type": "execute_result",
          "data": {
            "text/plain": [
              "<keras.callbacks.History at 0x7f1546e777d0>"
            ]
          },
          "metadata": {},
          "execution_count": 32
        }
      ],
      "source": [
        "# https://stats.stackexchange.com/questions/326065/cross-entropy-vs-sparse-cross-entropy-when-to-use-one-over-the-other\n",
        "'''\n",
        "Both, categorical cross entropy and sparse categorical cross entropy have the same loss function \n",
        "which you have mentioned above. The only difference is the format in which you mention Yi (i,e true labels).\n",
        "\n",
        "If your Yi's are one-hot encoded, use categorical_crossentropy. Examples (for a 3-class classification): \n",
        "[1,0,0] , [0,1,0], [0,0,1]\n",
        "\n",
        "But if your Yi's are integers, use sparse_categorical_crossentropy. Examples for above 3-class classification\n",
        "[1] , [2], [3]\n",
        "\n",
        "The usage entirely depends on how you load your dataset. One advantage of using sparse categorical \n",
        "cross entropy is it saves time in memory as well as computation because it simply uses a single integer \n",
        "for a class, rather than a whole vector.\n",
        "'''\n",
        "\n",
        "metrics = [tf.keras.metrics.SparseCategoricalAccuracy('accuracy', dtype=tf.float32)]\n",
        "loss = tf.keras.losses.SparseCategoricalCrossentropy(from_logits=True)\n",
        "\n",
        "bert_classifier.compile(\n",
        "    optimizer=optimizer,\n",
        "    loss=loss,\n",
        "    metrics=metrics)\n",
        "\n",
        "bert_classifier.fit(\n",
        "      glue_train, glue_train_labels,\n",
        "      validation_data=(glue_validation, glue_validation_labels),\n",
        "      batch_size=32,\n",
        "      epochs=epochs)"
      ]
    },
    {
      "cell_type": "markdown",
      "metadata": {
        "id": "IFtKFWbNKb0u"
      },
      "source": [
        "Now run the fine-tuned model on a custom example to see that it works.\n",
        "\n",
        "Start by encoding some sentence pairs:"
      ]
    },
    {
      "cell_type": "code",
      "execution_count": 33,
      "metadata": {
        "id": "9ZoUgDUNJPz3"
      },
      "outputs": [],
      "source": [
        "my_examples = bert_encode(\n",
        "    glue_dict = {\n",
        "        'sentence1':[\n",
        "            'The rain in Spain falls mainly on the plain.',\n",
        "            'Look I fine tuned BERT.'],\n",
        "        'sentence2':[\n",
        "            'It mostly rains on the flat lands of Spain.',\n",
        "            'Is it working? This does not match.']\n",
        "    },\n",
        "    tokenizer=tokenizer)"
      ]
    },
    {
      "cell_type": "markdown",
      "metadata": {
        "id": "7ynJibkBRTJF"
      },
      "source": [
        "The model should report class `1` \"match\" for the first example and class `0` \"no-match\" for the second:"
      ]
    },
    {
      "cell_type": "code",
      "execution_count": 34,
      "metadata": {
        "id": "umo0ttrgRYIM",
        "colab": {
          "base_uri": "https://localhost:8080/"
        },
        "outputId": "561cbae0-065d-4936-d674-6318ab5c4f07"
      },
      "outputs": [
        {
          "output_type": "execute_result",
          "data": {
            "text/plain": [
              "array([1, 0])"
            ]
          },
          "metadata": {},
          "execution_count": 34
        }
      ],
      "source": [
        "result = bert_classifier(my_examples, training=False)\n",
        "\n",
        "result = tf.argmax(result).numpy()\n",
        "result"
      ]
    },
    {
      "cell_type": "code",
      "execution_count": 35,
      "metadata": {
        "id": "utGl0M3aZCE4",
        "colab": {
          "base_uri": "https://localhost:8080/"
        },
        "outputId": "76b2010e-a71f-4838-8b73-1df6bf48bcbb"
      },
      "outputs": [
        {
          "output_type": "execute_result",
          "data": {
            "text/plain": [
              "array(['equivalent', 'not_equivalent'], dtype='<U14')"
            ]
          },
          "metadata": {},
          "execution_count": 35
        }
      ],
      "source": [
        "np.array(info.features['label'].names)[result]"
      ]
    },
    {
      "cell_type": "code",
      "source": [
        "my_examples2 = bert_encode(\n",
        "    glue_dict = {\n",
        "        'sentence1':[\n",
        "            'i like you.',\n",
        "            'i like you.'],\n",
        "        'sentence2':[\n",
        "            'i love you.',\n",
        "            'i hate you.']\n",
        "    },\n",
        "    tokenizer=tokenizer)\n",
        "result2 = bert_classifier(my_examples2, training=False)\n",
        "\n",
        "result2 = tf.argmax(result2).numpy()\n",
        "result2"
      ],
      "metadata": {
        "colab": {
          "base_uri": "https://localhost:8080/"
        },
        "id": "6VS0BRNt5Wvp",
        "outputId": "3852fb36-f22d-48b4-f383-ac3cc3d5a98d"
      },
      "execution_count": 36,
      "outputs": [
        {
          "output_type": "execute_result",
          "data": {
            "text/plain": [
              "array([1, 0])"
            ]
          },
          "metadata": {},
          "execution_count": 36
        }
      ]
    },
    {
      "cell_type": "markdown",
      "metadata": {
        "id": "fVo_AnT0l26j"
      },
      "source": [
        "### Save the model\n",
        "\n",
        "Often the goal of training a model is to _use_ it for something, so export the model and then restore it to be sure that it works."
      ]
    },
    {
      "cell_type": "code",
      "execution_count": 37,
      "metadata": {
        "id": "Nl5x6nElZqkP",
        "colab": {
          "base_uri": "https://localhost:8080/"
        },
        "outputId": "d9445447-971d-4b4b-da0a-ea76af2dcba7"
      },
      "outputs": [
        {
          "output_type": "stream",
          "name": "stderr",
          "text": [
            "WARNING:absl:Found untraced functions such as self_attention_layer_call_fn, self_attention_layer_call_and_return_conditional_losses, dropout_layer_call_fn, dropout_layer_call_and_return_conditional_losses, self_attention_layer_norm_layer_call_fn while saving (showing 5 of 360). These functions will not be directly callable after loading.\n"
          ]
        },
        {
          "output_type": "stream",
          "name": "stdout",
          "text": [
            "INFO:tensorflow:Assets written to: ./saved_model/assets\n"
          ]
        },
        {
          "output_type": "stream",
          "name": "stderr",
          "text": [
            "INFO:tensorflow:Assets written to: ./saved_model/assets\n"
          ]
        }
      ],
      "source": [
        "export_dir='./saved_model'\n",
        "tf.saved_model.save(bert_classifier, export_dir=export_dir)"
      ]
    },
    {
      "cell_type": "code",
      "source": [
        "# copy model to drive\n",
        "%cp -av /content/saved_model /gdrive/MyDrive/bert"
      ],
      "metadata": {
        "colab": {
          "base_uri": "https://localhost:8080/"
        },
        "id": "HkytrY6_vPIh",
        "outputId": "39679857-5a68-4309-9469-f13bfaad72bd"
      },
      "execution_count": 72,
      "outputs": [
        {
          "output_type": "stream",
          "name": "stdout",
          "text": [
            "'/content/saved_model/variables/variables.data-00000-of-00001' -> '/gdrive/MyDrive/bert/saved_model/variables/variables.data-00000-of-00001'\n",
            "'/content/saved_model/variables/variables.index' -> '/gdrive/MyDrive/bert/saved_model/variables/variables.index'\n",
            "'/content/saved_model/saved_model.pb' -> '/gdrive/MyDrive/bert/saved_model/saved_model.pb'\n"
          ]
        }
      ]
    },
    {
      "cell_type": "code",
      "execution_count": 38,
      "metadata": {
        "id": "y_ACvKPsVUXC",
        "colab": {
          "base_uri": "https://localhost:8080/"
        },
        "outputId": "0eb33b64-8a6b-4f8e-8894-dfe86d8d9bd6"
      },
      "outputs": [
        {
          "output_type": "stream",
          "name": "stdout",
          "text": [
            "[[-3.345943   2.9583552]\n",
            " [ 2.0417438 -1.9247931]]\n",
            "\n",
            "[[-3.3459435  2.9583557]\n",
            " [ 2.0417378 -1.9247906]]\n"
          ]
        }
      ],
      "source": [
        "reloaded = tf.saved_model.load(export_dir)\n",
        "reloaded_result = reloaded([my_examples['input_word_ids'],\n",
        "                            my_examples['input_mask'],\n",
        "                            my_examples['input_type_ids']], training=False)\n",
        "\n",
        "original_result = bert_classifier(my_examples, training=False)\n",
        "\n",
        "# The results are (nearly) identical:\n",
        "print(original_result.numpy())\n",
        "print()\n",
        "print(reloaded_result.numpy())"
      ]
    },
    {
      "cell_type": "markdown",
      "metadata": {
        "id": "eQceYqRFT_Eg"
      },
      "source": [
        "## Appendix"
      ]
    },
    {
      "cell_type": "markdown",
      "metadata": {
        "id": "SaC1RlFawUpc"
      },
      "source": [
        "<a id=re_encoding_tools></a>\n",
        "### Re-encoding a large dataset"
      ]
    },
    {
      "cell_type": "markdown",
      "metadata": {
        "id": "CwUdjFBkzUgh"
      },
      "source": [
        "This tutorial you re-encoded the dataset in memory, for clarity.\n",
        "\n",
        "This was only possible because `glue/mrpc` is a very small dataset. To deal with larger datasets `tf_models` library includes some tools for processing and re-encoding a dataset for efficient training."
      ]
    },
    {
      "cell_type": "markdown",
      "metadata": {
        "id": "2UTQrkyOT5wD"
      },
      "source": [
        "The first step is to describe which features of the dataset should be transformed:"
      ]
    },
    {
      "cell_type": "code",
      "execution_count": 39,
      "metadata": {
        "id": "XQeDFOzYR9Z9"
      },
      "outputs": [],
      "source": [
        "processor = nlp.data.classifier_data_lib.TfdsProcessor(\n",
        "    tfds_params=\"dataset=glue/mrpc,text_key=sentence1,text_b_key=sentence2\",\n",
        "    process_text_fn=bert.tokenization.convert_to_unicode)"
      ]
    },
    {
      "cell_type": "markdown",
      "metadata": {
        "id": "XrFQbfErUWxa"
      },
      "source": [
        "Then apply the transformation to generate new TFRecord files."
      ]
    },
    {
      "cell_type": "code",
      "execution_count": 40,
      "metadata": {
        "id": "ymw7GOHpSHKU"
      },
      "outputs": [],
      "source": [
        "# Set up output of training and evaluation Tensorflow dataset\n",
        "train_data_output_path=\"./mrpc_train.tf_record\"\n",
        "eval_data_output_path=\"./mrpc_eval.tf_record\"\n",
        "\n",
        "max_seq_length = 128\n",
        "batch_size = 32\n",
        "eval_batch_size = 32\n",
        "\n",
        "# Generate and save training data into a tf record file\n",
        "input_meta_data = (\n",
        "    nlp.data.classifier_data_lib.generate_tf_record_from_data_file(\n",
        "      processor=processor,\n",
        "      data_dir=None,  # It is `None` because data is from tfds, not local dir.\n",
        "      tokenizer=tokenizer,\n",
        "      train_data_output_path=train_data_output_path,\n",
        "      eval_data_output_path=eval_data_output_path,\n",
        "      max_seq_length=max_seq_length))"
      ]
    },
    {
      "cell_type": "markdown",
      "metadata": {
        "id": "uX_Sp-wTUoRm"
      },
      "source": [
        "Finally create `tf.data` input pipelines from those TFRecord files:"
      ]
    },
    {
      "cell_type": "code",
      "execution_count": 41,
      "metadata": {
        "id": "rkHxIK57SQ_r"
      },
      "outputs": [],
      "source": [
        "training_dataset = bert.run_classifier.get_dataset_fn(\n",
        "    train_data_output_path,\n",
        "    max_seq_length,\n",
        "    batch_size,\n",
        "    is_training=True)()\n",
        "\n",
        "evaluation_dataset = bert.run_classifier.get_dataset_fn(\n",
        "    eval_data_output_path,\n",
        "    max_seq_length,\n",
        "    eval_batch_size,\n",
        "    is_training=False)()\n"
      ]
    },
    {
      "cell_type": "markdown",
      "metadata": {
        "id": "stbaVouogvzS"
      },
      "source": [
        "The resulting `tf.data.Datasets` return `(features, labels)` pairs, as expected by `keras.Model.fit`:"
      ]
    },
    {
      "cell_type": "code",
      "execution_count": 42,
      "metadata": {
        "id": "gwhrlQl4gxVF",
        "colab": {
          "base_uri": "https://localhost:8080/"
        },
        "outputId": "ea85f15d-35e1-4a88-b5cf-2528ff22c46d"
      },
      "outputs": [
        {
          "output_type": "execute_result",
          "data": {
            "text/plain": [
              "({'input_mask': TensorSpec(shape=(32, 128), dtype=tf.int32, name=None),\n",
              "  'input_type_ids': TensorSpec(shape=(32, 128), dtype=tf.int32, name=None),\n",
              "  'input_word_ids': TensorSpec(shape=(32, 128), dtype=tf.int32, name=None)},\n",
              " TensorSpec(shape=(32,), dtype=tf.int32, name=None))"
            ]
          },
          "metadata": {},
          "execution_count": 42
        }
      ],
      "source": [
        "training_dataset.element_spec"
      ]
    },
    {
      "cell_type": "markdown",
      "metadata": {
        "id": "dbJ76vSJj77j"
      },
      "source": [
        "#### Create tf.data.Dataset for training and evaluation\n"
      ]
    },
    {
      "cell_type": "markdown",
      "metadata": {
        "id": "9J95LFRohiYw"
      },
      "source": [
        "If you need to modify the data loading here is some code to get you started:"
      ]
    },
    {
      "cell_type": "code",
      "execution_count": 43,
      "metadata": {
        "id": "gCvaLLAxPuMc"
      },
      "outputs": [],
      "source": [
        "def create_classifier_dataset(file_path, seq_length, batch_size, is_training):\n",
        "  \"\"\"Creates input dataset from (tf)records files for train/eval.\"\"\"\n",
        "  dataset = tf.data.TFRecordDataset(file_path)\n",
        "  if is_training:\n",
        "    dataset = dataset.shuffle(100)\n",
        "    dataset = dataset.repeat()\n",
        "\n",
        "  def decode_record(record):\n",
        "    name_to_features = {\n",
        "      'input_ids': tf.io.FixedLenFeature([seq_length], tf.int64),\n",
        "      'input_mask': tf.io.FixedLenFeature([seq_length], tf.int64),\n",
        "      'segment_ids': tf.io.FixedLenFeature([seq_length], tf.int64),\n",
        "      'label_ids': tf.io.FixedLenFeature([], tf.int64),\n",
        "    }\n",
        "    return tf.io.parse_single_example(record, name_to_features)\n",
        "\n",
        "  def _select_data_from_record(record):\n",
        "    x = {\n",
        "        'input_word_ids': record['input_ids'],\n",
        "        'input_mask': record['input_mask'],\n",
        "        'input_type_ids': record['segment_ids']\n",
        "    }\n",
        "    y = record['label_ids']\n",
        "    return (x, y)\n",
        "\n",
        "  dataset = dataset.map(decode_record,\n",
        "                        num_parallel_calls=tf.data.AUTOTUNE)\n",
        "  dataset = dataset.map(\n",
        "      _select_data_from_record,\n",
        "      num_parallel_calls=tf.data.AUTOTUNE)\n",
        "  dataset = dataset.batch(batch_size, drop_remainder=is_training)\n",
        "  dataset = dataset.prefetch(tf.data.AUTOTUNE)\n",
        "  return dataset"
      ]
    },
    {
      "cell_type": "code",
      "execution_count": 44,
      "metadata": {
        "id": "rutkBadrhzdR"
      },
      "outputs": [],
      "source": [
        "# Set up batch sizes\n",
        "batch_size = 32\n",
        "eval_batch_size = 32\n",
        "\n",
        "# Return Tensorflow dataset\n",
        "training_dataset = create_classifier_dataset(\n",
        "    train_data_output_path,\n",
        "    input_meta_data['max_seq_length'],\n",
        "    batch_size,\n",
        "    is_training=True)\n",
        "\n",
        "evaluation_dataset = create_classifier_dataset(\n",
        "    eval_data_output_path,\n",
        "    input_meta_data['max_seq_length'],\n",
        "    eval_batch_size,\n",
        "    is_training=False)"
      ]
    },
    {
      "cell_type": "code",
      "execution_count": 45,
      "metadata": {
        "id": "59TVgt4Z7fuU",
        "colab": {
          "base_uri": "https://localhost:8080/"
        },
        "outputId": "ca1ad844-3b89-45cf-b0f8-3c1d4720bce3"
      },
      "outputs": [
        {
          "output_type": "execute_result",
          "data": {
            "text/plain": [
              "({'input_mask': TensorSpec(shape=(32, 128), dtype=tf.int64, name=None),\n",
              "  'input_type_ids': TensorSpec(shape=(32, 128), dtype=tf.int64, name=None),\n",
              "  'input_word_ids': TensorSpec(shape=(32, 128), dtype=tf.int64, name=None)},\n",
              " TensorSpec(shape=(32,), dtype=tf.int64, name=None))"
            ]
          },
          "metadata": {},
          "execution_count": 45
        }
      ],
      "source": [
        "training_dataset.element_spec"
      ]
    },
    {
      "cell_type": "markdown",
      "metadata": {
        "id": "QbklKt-w_CiI"
      },
      "source": [
        "<a id=\"hub_bert\"></a>\n",
        "\n",
        "### TFModels BERT on TFHub\n",
        "\n",
        "You can get [the BERT model](https://tfhub.dev/tensorflow/bert_en_uncased_L-12_H-768_A-12/2) off the shelf from [TFHub](https://tensorflow.org/hub). It would not be hard to add a classification head on top of this `hub.KerasLayer`"
      ]
    },
    {
      "cell_type": "code",
      "execution_count": 46,
      "metadata": {
        "id": "GDWrHm0BGpbX"
      },
      "outputs": [],
      "source": [
        "# Note: 350MB download.\n",
        "import tensorflow_hub as hub"
      ]
    },
    {
      "cell_type": "code",
      "execution_count": 47,
      "metadata": {
        "cellView": "form",
        "id": "Y29meH0qGq_5"
      },
      "outputs": [],
      "source": [
        "hub_model_name = \"bert_en_uncased_L-12_H-768_A-12\" #@param [\"bert_en_uncased_L-24_H-1024_A-16\", \"bert_en_wwm_cased_L-24_H-1024_A-16\", \"bert_en_uncased_L-12_H-768_A-12\", \"bert_en_wwm_uncased_L-24_H-1024_A-16\", \"bert_en_cased_L-24_H-1024_A-16\", \"bert_en_cased_L-12_H-768_A-12\", \"bert_zh_L-12_H-768_A-12\", \"bert_multi_cased_L-12_H-768_A-12\"]"
      ]
    },
    {
      "cell_type": "code",
      "execution_count": 48,
      "metadata": {
        "id": "lo6479At4sP1",
        "colab": {
          "base_uri": "https://localhost:8080/"
        },
        "outputId": "e3c03717-5081-4a46-b6b7-250dd7384ade"
      },
      "outputs": [
        {
          "output_type": "stream",
          "name": "stdout",
          "text": [
            "The Hub encoder has 199 trainable variables\n"
          ]
        }
      ],
      "source": [
        "hub_encoder = hub.KerasLayer(f\"https://tfhub.dev/tensorflow/{hub_model_name}/3\",\n",
        "                             trainable=True)\n",
        "\n",
        "print(f\"The Hub encoder has {len(hub_encoder.trainable_variables)} trainable variables\")"
      ]
    },
    {
      "cell_type": "markdown",
      "metadata": {
        "id": "iTzF574wivQv"
      },
      "source": [
        "Test run it on a batch of data:"
      ]
    },
    {
      "cell_type": "code",
      "execution_count": 49,
      "metadata": {
        "id": "XEcYrCR45Uwo",
        "colab": {
          "base_uri": "https://localhost:8080/"
        },
        "outputId": "da7013aa-d3db-4cb9-88be-21367c34f6de"
      },
      "outputs": [
        {
          "output_type": "stream",
          "name": "stdout",
          "text": [
            "Pooled output shape: (10, 768)\n",
            "Sequence output shape: (10, 103, 768)\n"
          ]
        }
      ],
      "source": [
        "result = hub_encoder(\n",
        "    inputs=dict(\n",
        "        input_word_ids=glue_train['input_word_ids'][:10],\n",
        "        input_mask=glue_train['input_mask'][:10],\n",
        "        input_type_ids=glue_train['input_type_ids'][:10],),\n",
        "    training=False,\n",
        ")\n",
        "\n",
        "print(\"Pooled output shape:\", result['pooled_output'].shape)\n",
        "print(\"Sequence output shape:\", result['sequence_output'].shape)"
      ]
    },
    {
      "cell_type": "markdown",
      "metadata": {
        "id": "cjojn8SmLSRI"
      },
      "source": [
        "At this point it would be simple to add a classification head yourself.\n",
        "\n",
        "The `bert_models.classifier_model` function can also build a classifier onto the encoder from TensorFlow Hub:"
      ]
    },
    {
      "cell_type": "code",
      "execution_count": 50,
      "metadata": {
        "id": "9nTDaApyLR70"
      },
      "outputs": [],
      "source": [
        "hub_classifier = nlp.modeling.models.BertClassifier(\n",
        "    bert_encoder,\n",
        "    num_classes=2,\n",
        "    dropout_rate=0.1,\n",
        "    initializer=tf.keras.initializers.TruncatedNormal(\n",
        "        stddev=0.02))"
      ]
    },
    {
      "cell_type": "markdown",
      "metadata": {
        "id": "xMJX3wV0_v7I"
      },
      "source": [
        "The one downside to loading this model from TFHub is that the structure of internal keras layers is not restored. So it's more difficult to inspect or modify the model. The `BertEncoder` model is now a single layer:"
      ]
    },
    {
      "cell_type": "code",
      "execution_count": 51,
      "metadata": {
        "id": "pD71dnvhM2QS",
        "colab": {
          "base_uri": "https://localhost:8080/",
          "height": 287
        },
        "outputId": "b4fec472-5784-4901-c247-fc509c6741ef"
      },
      "outputs": [
        {
          "output_type": "execute_result",
          "data": {
            "text/plain": [
              "<IPython.core.display.Image object>"
            ],
            "image/png": "[encoded data removed]"
          },
          "metadata": {},
          "execution_count": 51
        }
      ],
      "source": [
        "tf.keras.utils.plot_model(hub_classifier, show_shapes=True, dpi=64)"
      ]
    },
    {
      "cell_type": "code",
      "execution_count": 52,
      "metadata": {
        "id": "nLZD-isBzNKi",
        "colab": {
          "base_uri": "https://localhost:8080/"
        },
        "outputId": "7bc0e988-7531-4077-8efb-f897b51ea61e"
      },
      "outputs": [
        {
          "output_type": "stream",
          "name": "stdout",
          "text": [
            "AttributeError: 'KerasLayer' object has no attribute 'layers'\n"
          ]
        }
      ],
      "source": [
        "try:\n",
        "  tf.keras.utils.plot_model(hub_encoder, show_shapes=True, dpi=64)\n",
        "  assert False\n",
        "except Exception as e:\n",
        "  print(f\"{type(e).__name__}: {e}\")"
      ]
    },
    {
      "cell_type": "markdown",
      "metadata": {
        "id": "ZxSqH0dNAgXV"
      },
      "source": [
        "<a id=\"model_builder_functions\"></a>\n",
        "\n",
        "### Low level model building\n",
        "\n",
        "If you need a more control over the construction of the model it's worth noting that the `classifier_model` function used earlier is really just a thin wrapper over the `nlp.modeling.networks.BertEncoder` and `nlp.modeling.models.BertClassifier` classes. Just remember that if you start modifying the architecture it may not be correct or possible to reload the pre-trained checkpoint so you'll need to retrain from scratch."
      ]
    },
    {
      "cell_type": "markdown",
      "metadata": {
        "id": "0cgABEwDj06P"
      },
      "source": [
        "Build the encoder:"
      ]
    },
    {
      "cell_type": "code",
      "execution_count": 53,
      "metadata": {
        "id": "5r_yqhBFSVEM",
        "colab": {
          "base_uri": "https://localhost:8080/"
        },
        "outputId": "4709e9cc-5e2a-4ef5-faed-9b4dec6ce5a2"
      },
      "outputs": [
        {
          "output_type": "execute_result",
          "data": {
            "text/plain": [
              "{'activation': <function official.modeling.activations.gelu.gelu>,\n",
              " 'attention_dropout_rate': 0.1,\n",
              " 'dropout_rate': 0.1,\n",
              " 'hidden_size': 768,\n",
              " 'initializer': <keras.initializers.initializers_v2.TruncatedNormal at 0x7f1538cc9210>,\n",
              " 'intermediate_size': 3072,\n",
              " 'max_sequence_length': 512,\n",
              " 'num_attention_heads': 12,\n",
              " 'num_layers': 12,\n",
              " 'type_vocab_size': 2,\n",
              " 'vocab_size': 30522}"
            ]
          },
          "metadata": {},
          "execution_count": 53
        }
      ],
      "source": [
        "bert_encoder_config = config_dict.copy()\n",
        "\n",
        "# You need to rename a few fields to make this work:\n",
        "bert_encoder_config['attention_dropout_rate'] = bert_encoder_config.pop('attention_probs_dropout_prob')\n",
        "bert_encoder_config['activation'] = tf_utils.get_activation(bert_encoder_config.pop('hidden_act'))\n",
        "bert_encoder_config['dropout_rate'] = bert_encoder_config.pop('hidden_dropout_prob')\n",
        "bert_encoder_config['initializer'] = tf.keras.initializers.TruncatedNormal(\n",
        "          stddev=bert_encoder_config.pop('initializer_range'))\n",
        "bert_encoder_config['max_sequence_length'] = bert_encoder_config.pop('max_position_embeddings')\n",
        "bert_encoder_config['num_layers'] = bert_encoder_config.pop('num_hidden_layers')\n",
        "\n",
        "bert_encoder_config"
      ]
    },
    {
      "cell_type": "code",
      "execution_count": 54,
      "metadata": {
        "id": "rIO8MI7LLijh"
      },
      "outputs": [],
      "source": [
        "manual_encoder = nlp.modeling.networks.BertEncoder(**bert_encoder_config)"
      ]
    },
    {
      "cell_type": "markdown",
      "metadata": {
        "id": "4a4tFSg9krRi"
      },
      "source": [
        "Restore the weights:"
      ]
    },
    {
      "cell_type": "code",
      "execution_count": 55,
      "metadata": {
        "id": "X6N9NEqfXJCx",
        "colab": {
          "base_uri": "https://localhost:8080/"
        },
        "outputId": "ff72283b-3490-475e-b382-cd19bcb910be"
      },
      "outputs": [
        {
          "output_type": "execute_result",
          "data": {
            "text/plain": [
              "<tensorflow.python.training.tracking.util.CheckpointLoadStatus at 0x7f1546ec64d0>"
            ]
          },
          "metadata": {},
          "execution_count": 55
        }
      ],
      "source": [
        "checkpoint = tf.train.Checkpoint(encoder=manual_encoder)\n",
        "checkpoint.read(\n",
        "    os.path.join(gs_folder_bert, 'bert_model.ckpt')).assert_consumed()"
      ]
    },
    {
      "cell_type": "markdown",
      "metadata": {
        "id": "1BPiPO4ykuwM"
      },
      "source": [
        "Test run it:"
      ]
    },
    {
      "cell_type": "code",
      "execution_count": 56,
      "metadata": {
        "id": "hlVdgJKmj389",
        "colab": {
          "base_uri": "https://localhost:8080/"
        },
        "outputId": "2a930529-4712-4c1f-8731-5f7530eae20b"
      },
      "outputs": [
        {
          "output_type": "stream",
          "name": "stdout",
          "text": [
            "Sequence output shape: (2, 23, 768)\n",
            "Pooled output shape: (2, 768)\n"
          ]
        }
      ],
      "source": [
        "result = manual_encoder(my_examples, training=True)\n",
        "\n",
        "print(\"Sequence output shape:\", result[0].shape)\n",
        "print(\"Pooled output shape:\", result[1].shape)"
      ]
    },
    {
      "cell_type": "markdown",
      "metadata": {
        "id": "nJMXvVgJkyBv"
      },
      "source": [
        "Wrap it in a classifier:"
      ]
    },
    {
      "cell_type": "code",
      "execution_count": 57,
      "metadata": {
        "id": "tQX57GJ6wkAb"
      },
      "outputs": [],
      "source": [
        "manual_classifier = nlp.modeling.models.BertClassifier(\n",
        "        bert_encoder,\n",
        "        num_classes=2,\n",
        "        dropout_rate=bert_encoder_config['dropout_rate'],\n",
        "        initializer=bert_encoder_config['initializer'])"
      ]
    },
    {
      "cell_type": "code",
      "execution_count": 58,
      "metadata": {
        "id": "kB-nBWhQk0dS",
        "colab": {
          "base_uri": "https://localhost:8080/"
        },
        "outputId": "9421c2d5-de19-4ad2-ac96-8f8d389cf81e"
      },
      "outputs": [
        {
          "output_type": "execute_result",
          "data": {
            "text/plain": [
              "array([[-0.46491253,  0.2900281 ],\n",
              "       [ 0.1804121 ,  0.23058276]], dtype=float32)"
            ]
          },
          "metadata": {},
          "execution_count": 58
        }
      ],
      "source": [
        "manual_classifier(my_examples, training=True).numpy()"
      ]
    },
    {
      "cell_type": "markdown",
      "metadata": {
        "id": "E6AJlOSyIO1L"
      },
      "source": [
        "<a id=\"optimizer_schedule\"></a>\n",
        "\n",
        "### Optimizers and schedules\n",
        "\n",
        "The optimizer used to train the model was created using the `nlp.optimization.create_optimizer` function:"
      ]
    },
    {
      "cell_type": "code",
      "execution_count": 59,
      "metadata": {
        "id": "28Dv3BPRlFTD"
      },
      "outputs": [],
      "source": [
        "optimizer = nlp.optimization.create_optimizer(\n",
        "    2e-5, num_train_steps=num_train_steps, num_warmup_steps=warmup_steps)"
      ]
    },
    {
      "cell_type": "markdown",
      "metadata": {
        "id": "LRjcHr0UlT8c"
      },
      "source": [
        "That high level wrapper sets up the learning rate schedules and the optimizer.\n",
        "\n",
        "The base learning rate schedule used here is a linear decay to zero over the training run:"
      ]
    },
    {
      "cell_type": "code",
      "execution_count": 60,
      "metadata": {
        "id": "MHY8K6kDngQn"
      },
      "outputs": [],
      "source": [
        "epochs = 3\n",
        "batch_size = 32\n",
        "eval_batch_size = 32\n",
        "\n",
        "train_data_size = len(glue_train_labels)\n",
        "steps_per_epoch = int(train_data_size / batch_size)\n",
        "num_train_steps = steps_per_epoch * epochs"
      ]
    },
    {
      "cell_type": "code",
      "execution_count": 61,
      "metadata": {
        "id": "wKIcSprulu3P",
        "colab": {
          "base_uri": "https://localhost:8080/",
          "height": 293
        },
        "outputId": "fdaa5d71-ed41-41a3-eba4-f37e87a9b77a"
      },
      "outputs": [
        {
          "output_type": "execute_result",
          "data": {
            "text/plain": [
              "[<matplotlib.lines.Line2D at 0x7f153ad40a90>]"
            ]
          },
          "metadata": {},
          "execution_count": 61
        },
        {
          "output_type": "display_data",
          "data": {
            "text/plain": [
              "<Figure size 432x288 with 1 Axes>"
            ],
            "image/png": "[encoded data removed]"
          },
          "metadata": {
            "needs_background": "light"
          }
        }
      ],
      "source": [
        "decay_schedule = tf.keras.optimizers.schedules.PolynomialDecay(\n",
        "      initial_learning_rate=2e-5,\n",
        "      decay_steps=num_train_steps,\n",
        "      end_learning_rate=0)\n",
        "\n",
        "plt.plot([decay_schedule(n) for n in range(num_train_steps)])"
      ]
    },
    {
      "cell_type": "markdown",
      "metadata": {
        "id": "IMTC_gfAl_PZ"
      },
      "source": [
        "This, in turn is wrapped in a `WarmUp` schedule that linearly increases the learning rate to the target value over the first 10% of training:"
      ]
    },
    {
      "cell_type": "code",
      "execution_count": 62,
      "metadata": {
        "id": "YRt3VTmBmCBY",
        "colab": {
          "base_uri": "https://localhost:8080/",
          "height": 293
        },
        "outputId": "37fd6f5b-edaf-4304-b3cc-b6a4ed196312"
      },
      "outputs": [
        {
          "output_type": "execute_result",
          "data": {
            "text/plain": [
              "[<matplotlib.lines.Line2D at 0x7f153acbe490>]"
            ]
          },
          "metadata": {},
          "execution_count": 62
        },
        {
          "output_type": "display_data",
          "data": {
            "text/plain": [
              "<Figure size 432x288 with 1 Axes>"
            ],
            "image/png": "[encoded data removed]"
          },
          "metadata": {
            "needs_background": "light"
          }
        }
      ],
      "source": [
        "warmup_steps = num_train_steps * 0.1\n",
        "\n",
        "warmup_schedule = nlp.optimization.WarmUp(\n",
        "        initial_learning_rate=2e-5,\n",
        "        decay_schedule_fn=decay_schedule,\n",
        "        warmup_steps=warmup_steps)\n",
        "\n",
        "# The warmup overshoots, because it warms up to the `initial_learning_rate`\n",
        "# following the original implementation. You can set\n",
        "# `initial_learning_rate=decay_schedule(warmup_steps)` if you don't like the\n",
        "# overshoot.\n",
        "plt.plot([warmup_schedule(n) for n in range(num_train_steps)])"
      ]
    },
    {
      "cell_type": "markdown",
      "metadata": {
        "id": "l8D9Lv3Bn740"
      },
      "source": [
        "Then create the `nlp.optimization.AdamWeightDecay` using that schedule, configured for the BERT model:"
      ]
    },
    {
      "cell_type": "code",
      "execution_count": 63,
      "metadata": {
        "id": "2Hf2rpRXk89N"
      },
      "outputs": [],
      "source": [
        "optimizer = nlp.optimization.AdamWeightDecay(\n",
        "        learning_rate=warmup_schedule,\n",
        "        weight_decay_rate=0.01,\n",
        "        epsilon=1e-6,\n",
        "        exclude_from_weight_decay=['LayerNorm', 'layer_norm', 'bias'])"
      ]
    }
  ],
  "metadata": {
    "accelerator": "GPU",
    "colab": {
      "collapsed_sections": [],
      "name": "fine_tune_bert.ipynb",
      "provenance": []
    },
    "kernelspec": {
      "display_name": "Python 3",
      "name": "python3"
    }
  },
  "nbformat": 4,
  "nbformat_minor": 0
}